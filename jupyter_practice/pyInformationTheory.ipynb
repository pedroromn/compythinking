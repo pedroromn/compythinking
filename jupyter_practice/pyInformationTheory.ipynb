{
 "cells": [
  {
   "cell_type": "markdown",
   "metadata": {},
   "source": [
    "# Introducción a la Teoría de la información con Python"
   ]
  },
  {
   "cell_type": "markdown",
   "metadata": {},
   "source": [
    "*Esta notebook fue creada originalmente como un blog post por [Raúl E. López Briega](https://relopezbriega.com.ar/) en [Matemáticas, análisis de datos y python](https://relopezbriega.github.io). El contenido esta bajo la licencia BSD.*"
   ]
  },
  {
   "cell_type": "markdown",
   "metadata": {},
   "source": [
    "<img alt=\"NLP\" title=\"NLP\" src=\"https://relopezbriega.github.io/images/shannon.jpg\" width=\"60%\" height=\"60%\">"
   ]
  },
  {
   "cell_type": "markdown",
   "metadata": {},
   "source": [
    "> \"La información es la resolución de la incertidumbre\" \n",
    "\n",
    "**[Claude Shannon](https://es.wikipedia.org/wiki/Claude_Elwood_Shannon)**\n",
    "\n",
    "> \"Lo que está en el corazón de cada ser vivo no es *un fuego*, ni un *aliento cálido*, ni una *chispa de vida*. Es información, palabras, instrucciones ... Si quieres entender la vida... piensa en la tecnología de la información\"\n",
    "\n",
    "**[Richard Dawkins](https://es.wikipedia.org/wiki/Richard_Dawkins)**"
   ]
  },
  {
   "cell_type": "markdown",
   "metadata": {},
   "source": [
    "## Introducción\n",
    "\n",
    "Muchas veces hemos escuchado decir que vivimos en la [era de la información](https://es.wikipedia.org/wiki/Era_de_la_informaci%C3%B3n). La *información* parece estar en todo los que nos rodea. Ya sea que consideremos a las computadoras, la evolución, la física, la [inteligencia artificial](https://relopezbriega.github.io/blog/2017/06/05/introduccion-a-la-inteligencia-artificial/), o nuestro cerebro; podemos llegar a la conclusión de que su comportamiento esta principalmente determinado por la forma en que procesan la *información*. \n",
    "\n",
    "La idea de la *información* nació del antiguo arte de la codificación y decodificación de códigos. Los encargados de esconder los secretos de estado durante la segunda guerra mundial utilizaban, en esencia, métodos para ocultar *información* y transmitirla de un lugar a otro. Cuando el arte de quebrar estos códigos se combinó con la ciencia de la [Termodinámica](https://es.wikipedia.org/wiki/Termodin%C3%A1mica), la rama de la [física](https://es.wikipedia.org/wiki/F%C3%ADsica) encargada del estudio de la interacción entre el calor y otras manifestaciones de la energía; surgió lo que hoy conocemos como [Teoría de la información](https://es.wikipedia.org/wiki/Teor%C3%ADa_de_la_informaci%C3%B3n). Esta teoría fue una idea revolucionaria que inmediatamente transformó el campo de las comunicaciones y preparó el camino para la *era de las computadoras*. Pero las ideas de la [Teoría de la información](https://es.wikipedia.org/wiki/Teor%C3%ADa_de_la_informaci%C3%B3n) no solo gobiernan las comunicaciones y los *bits* y *bytes* de las computadoras modernas; sino que también describen el comportamiento del *mundo [subatómico](https://es.wikipedia.org/wiki/Part%C3%ADcula_subat%C3%B3mica)*, e incluso de toda la vida en la Tierra.     "
   ]
  },
  {
   "cell_type": "markdown",
   "metadata": {},
   "source": [
    "## ¿Qué es la información?\n",
    "\n",
    "Hasta no hace no tanto tiempo atrás, nuestro conocimiento de la *información* era bastante vago y limitado. En 1948, [Claude Shannon](https://es.wikipedia.org/wiki/Claude_Elwood_Shannon) publicó un artículo titulado *[\"Una teoría matemática de la comunicación\"](https://es.wikipedia.org/wiki/Una_teor%C3%ADa_matem%C3%A1tica_de_la_comunicaci%C3%B3n)*, el cual transformó para siempre la forma en que entendemos la *información*. La [Teoría de la información](https://es.wikipedia.org/wiki/Teor%C3%ADa_de_la_informaci%C3%B3n) de [Shannon](https://es.wikipedia.org/wiki/Claude_Elwood_Shannon) proporciona una definición matemática de *información* y describe con precisión cuánta *información* se puede comunicar entre los diferentes elementos de un sistema. La teoría de [Shannon](https://es.wikipedia.org/wiki/Claude_Elwood_Shannon) respalda nuestra comprensión de cómo se relacionan las *señales y el ruido*, y por qué existen límites definidos para la velocidad a la que se puede comunicar la *información* dentro de cualquier sistema, ya sea creado por el hombre o biológico. La habilidad de separar la *señal* del *ruido*, para extraer la *información* en los datos, se ha vuelto crucial en las telecomunicaciones modernas. \n",
    "\n",
    "La [Teoría de la información](https://es.wikipedia.org/wiki/Teor%C3%ADa_de_la_informaci%C3%B3n) es tan poderosa porque la *información* es física. La *información* no es solo un concepto abstracto, y no solo son hechos o figuras, fechas o nombres. Es una propiedad concreta de la materia y la energía que es cuantificable y mensurable. Es tan real como el peso de un trozo de plomo o la energía almacenada en una ojiva atómica, y al igual que la masa y la energía, la *información* está sujeta a un conjunto de leyes físicas que dictan cómo puede comportarse, cómo la *información* puede ser manipulada, transferida, duplicada, borrada o destruida. Y todo en el universo debe obedecer las leyes de la *información*, porque todo en el universo está formado por la *información* que contiene.\n",
    "\n",
    "Según la perspectiva de la *información* de [Shannon](https://es.wikipedia.org/wiki/Claude_Elwood_Shannon), el significado no es importante, sino que lo que importa es *cuánta información es transmitida* por un mensaje. Una de las grandes intuiciones que tuvo [Shannon](https://es.wikipedia.org/wiki/Claude_Elwood_Shannon) fue darse cuenta que cualquier pregunta que tenga una respuesta finita puede ser respondida por una cadena de preguntas por sí o por no. Así es como surge el concepto de *[Bit](https://es.wikipedia.org/wiki/Bit)*.   \n",
    "\n",
    "### Bits\n",
    "\n",
    "Un *[Bit](https://es.wikipedia.org/wiki/Bit)* es la unidad fundamental en la que podemos medir la *información* y nos permite decidir entre dos alternativas igualmente probables. La palabra *[Bit](https://es.wikipedia.org/wiki/Bit)* deriva de <em><strong>bi</strong>nary digi<strong>t</strong></em>, o sea [dígito binario](https://es.wikipedia.org/wiki/Sistema_binario), los cuales son representados por 1s y 0s. Pero si bien la palabra *[Bit](https://es.wikipedia.org/wiki/Bit)* deriva de <em><strong>bi</strong>nary digi<strong>t</strong></em> no debemos confundirlos, ya que representan entidades distintas. Un *[Bit](https://es.wikipedia.org/wiki/Bit)* representa una *cantidad de información* definitiva. En cambio, un [dígito binario](https://es.wikipedia.org/wiki/Sistema_binario) es el valor de una variable [binaria](https://es.wikipedia.org/wiki/Sistema_binario), el cual, como ya dijimos, puede ser 0 o 1; pero un [dígito binario](https://es.wikipedia.org/wiki/Sistema_binario) no representa *información* en sí misma.\n",
    "\n",
    "Ahora bien, volviendo a las preguntas por sí o por no que mencionamos antes; responder cada una de estas preguntas requiere un *[Bit](https://es.wikipedia.org/wiki/Bit)* de *información*. Sólo necesitamos un *[Bit](https://es.wikipedia.org/wiki/Bit)* para responder una pregunta como ¿sos un hombre o una mujer?; el 0 puede significar hombre y el 1 mujer. Con simplemente transmitir ese dígito en el mensaje, estamos transmitiendo la respuesta. Pero aquí viene otra de las grandes intuiciones de [Shannon](https://es.wikipedia.org/wiki/Claude_Elwood_Shannon); tampoco importa la *forma* que tome el mensaje, puede ser una luz roja versus una luz verde; o una bandera blanca y otra roja; realmente no importa el medio que se utilice, el mensaje siempre contiene un *[Bit](https://es.wikipedia.org/wiki/Bit)* de *información*. \n",
    "\n",
    "Y ¿qué pasa con otro tipo de preguntas? preguntas como adivinar un número entero entre 1 y 1000, o como, ¿cuál es la capital de Islandia? Estas preguntas también pueden ser respondidas con una cadena de *[Bits](https://es.wikipedia.org/wiki/Bit)*. El lenguaje no es más que una cadena de símbolos y cualquier símbolo puede ser representado con una cadena de *[Bits](https://es.wikipedia.org/wiki/Bit)*. Por lo tanto, cualquier respuesta que pueda ser escrita en un lenguaje puede ser representada con una cadena de *[Bits](https://es.wikipedia.org/wiki/Bit)*, de 1s y 0s. Los *[Bits](https://es.wikipedia.org/wiki/Bit)* son el medio fundamental de la *información*.\n",
    "\n",
    "Esta realización, que cualquier información, cualquier respuesta, puede ser codificada en una cadena de *[Bits](https://es.wikipedia.org/wiki/Bit)*, nos abre la puerta para pensar que entonces debe existir una forma de medir *cuánta información* hay en un mensaje.¿Cuál es la mínima cantidad de *[Bits](https://es.wikipedia.org/wiki/Bit)* para codificar un mensaje? Por ejemplo, para responder la pregunta planteada anteriormente de adivinar un número entero entre 1 y 1000, no se necesitan más que 10 *[Bits](https://es.wikipedia.org/wiki/Bit)*!. [Shannon](https://es.wikipedia.org/wiki/Claude_Elwood_Shannon) encontró que una pregunta con $N$ posibles resultados puede ser respondida con una cadena de *[Bits](https://es.wikipedia.org/wiki/Bit)* de $log_2 N$ *[Bits](https://es.wikipedia.org/wiki/Bit)*; es decir que solo necesitamos $log_2 N$ *[Bits](https://es.wikipedia.org/wiki/Bit)* de *información* para distinguir entre $N$ posibilidades. Si no me creen, más abajo les dejo un botón para jugar a adivinar el número. (Si les consume más de 10 bits llegar a la respuesta correcta, no están utilizando la estrategia correcta!).\n",
    "\n",
    "Todo esto último relacionado a cómo medir *cuánta información* contiene un mensaje nos lleva a otro de los conceptos fundamentales de la [Teoría de la información](https://es.wikipedia.org/wiki/Teor%C3%ADa_de_la_informaci%C3%B3n), el concepto de <a href=\"https://es.wikipedia.org/wiki/Entrop%C3%ADa_(informaci%C3%B3n)\" target=\"_blank\">Entropía</a>. \n",
    "<br>\n",
    "<button onclick=\"adivinar_numero()\">Jugar a Adivinar el número!</button>\n",
    "\n",
    "<script>\n",
    "function adivinar_numero(){\n",
    "    var numero_a_adivinar = Math.floor(Math.random()*1000);\n",
    "    var bits = 1;\n",
    "    var numero_usuario = prompt(\"Adivine un número entero entre 1 y 1000\\nIngrese un número entre 1 y 1000: \");\n",
    "\n",
    "    while (numero_usuario != numero_a_adivinar) {\n",
    "        if (numero_usuario < numero_a_adivinar) {\n",
    "            numero_usuario = prompt(\"Su número es muy bajo!\\nIngrese otro número entre 1 y 1000:\");\n",
    "            bits++;\n",
    "        } else {\n",
    "            numero_usuario = prompt(\"Su número es muy alto!\\nIngrese otro número entre 1 y 1000:\");\n",
    "            bits++;\n",
    "        }\n",
    "    }\n",
    "    alert(\"Felicidades el número es \" + numero_usuario + \" y ha utilizado \" + bits + \" bits!\");\n",
    "}\n",
    "</script>\n",
    "\n",
    "\n",
    "\n",
    "## Entropía\n",
    "\n",
    "La idea central de la [Teoría de la información](https://es.wikipedia.org/wiki/Teor%C3%ADa_de_la_informaci%C3%B3n) de [Shannon](https://es.wikipedia.org/wiki/Claude_Elwood_Shannon) es la <a href=\"https://es.wikipedia.org/wiki/Entrop%C3%ADa_(informaci%C3%B3n)\" target=\"_blank\">Entropía</a>. La *información* y la <a href=\"https://es.wikipedia.org/wiki/Entrop%C3%ADa_(informaci%C3%B3n)\" target=\"_blank\">Entropía</a> están intimimamente relacionadas, ya que esta última es en sí misma una *medida de información*. Cuando [Shannon](https://es.wikipedia.org/wiki/Claude_Elwood_Shannon) comenzó a desarrollar su teoría, encontró una formula que le permitía analizar la *información* en un mensaje en términos de *[Bits](https://es.wikipedia.org/wiki/Bit)*. Esta formula que encontró mide, a grandes rasgos, cuan poco predecible es una cadena de *[Bits](https://es.wikipedia.org/wiki/Bit)*. Mientras menos predecible, existen menos probabilidades de poder generar el mensaje completo desde una cadena más pequeña de *[Bits](https://es.wikipedia.org/wiki/Bit)*. Es decir, que al intentar medir cuan poco predecible es una cadena de *[Bits](https://es.wikipedia.org/wiki/Bit)*,  [Shannon](https://es.wikipedia.org/wiki/Claude_Elwood_Shannon) esperaba poder encontrar *cuánta información* contenía el mensaje. Ahora bien, ¿cuál es la cadena de 0s y 1s menos probables? Pues aquella que sea completamente aleatoria, como cuando lanzamos una moneda al aire y tenemos 50% de probabilidades de obtener cara o seca. Mientras más aleatoria es una cadena de símbolos, es menos predecible y menos redundante; y por lo tiende a contener una mayor cantidad de *información* por símbolo. Si bien esto parece una paradoja, ¿cómo algo que es completamente aleatorio contiene más *información* que algo que no lo es? Acoso, ¿lo aleatorio no es no lo contrario de *información*? Parece ser contra intuitivo, pero en realidad no lo es. Se puede observar facílmente con un ejemplo. Supongamos que arrojamos una moneda al aire 16 veces y representamos a la cara con un 1 y a la seca con un 0. Podemos obtener una cadena como la siguiente: 1101001110001011. Esta cadena es aleatoria y por lo tanto no podemos encontrar ningún patrón en ella que nos diga cuál va a ser el próximo valor que podemos obtener más alla de la chance de 50% habitual, por tal motivo, no podemos *comprimir* la cadena y cada símbolo contiene un *[Bit](https://es.wikipedia.org/wiki/Bit)* de *información*. Ahora supongamos que la moneda esta sesgada y que siempre sale cara; en este caso nuestra cadena será la siguiente: 1111111111111111. Esta cadena es sumamente predecible, no nos aporta ninguna sorpresa y tenemos una probabilidad de 100% de adivinar que el siguiente dígito también será un 1. Es totalmente *redundante* y por lo tanto no nos aporta ninguna *información*. Cada símbolo contiene un *[Bit](https://es.wikipedia.org/wiki/Bit)* de *información*. Sin sorpresa, no hay *información*. \n",
    "\n",
    "La fórmula matemática que encontró [Shannon](https://es.wikipedia.org/wiki/Claude_Elwood_Shannon) para medir la <a href=\"https://es.wikipedia.org/wiki/Entrop%C3%ADa_(informaci%C3%B3n)\" target=\"_blank\">Entropía</a> de un mensaje es muy similar a la que se utiliza en [Termodinámica](https://es.wikipedia.org/wiki/Termodin%C3%A1mica) para medir el grado de desorden de un sistema. Es la siguiente:\n",
    "\n",
    "$$ H(x) = - \\sum_{i} p(i) log_2 p(i) $$\n",
    "\n",
    "Cuando [Shannon](https://es.wikipedia.org/wiki/Claude_Elwood_Shannon) se dio cuenta de que la <a href=\"https://es.wikipedia.org/wiki/Entrop%C3%ADa_(informaci%C3%B3n)\" target=\"_blank\">Entropía</a> de una secuencia de símbolos estaba relacionada con la cantidad de *información* que la cadena de símbolos tiende a contener, de repente tuvo una herramienta para cuantificar la *información* y la redundancia en un mensaje. Fue capaz de demostrar, matemáticamente, cuánta *información* puede transmitirse en cualquier medio y que existe un límite fundamental para la cantidad de *información* que puede transmitir con un equipo determinado. \n",
    "\n",
    "\n",
    "Veamos algunos ejemplos de como calcular la <a href=\"https://es.wikipedia.org/wiki/Entrop%C3%ADa_(informaci%C3%B3n)\" target=\"_blank\">Entropía</a> con la ayuda de [Python](https://www.python.org/):"
   ]
  },
  {
   "cell_type": "code",
   "execution_count": 1,
   "metadata": {
    "code_folding": [
     0
    ]
   },
   "outputs": [],
   "source": [
    "# <!-- collapse=True -->\n",
    "import matplotlib.pyplot as plt\n",
    "import numpy as np\n",
    "import warnings\n",
    "\n",
    "# ingnorar mensajes de advertencias en el notebook\n",
    "warnings.filterwarnings('ignore')\n",
    "\n",
    "# graficos en el notebook\n",
    "%matplotlib inline\n",
    "\n",
    "\n",
    "def entropia(X):\n",
    "    \"\"\"Devuelve el valor de entropia de una muestra de datos\"\"\" \n",
    "    probs = [np.mean(X == valor) for valor in set(X)]\n",
    "    return round(np.sum(-p * np.log2(p) for p in probs), 3)\n",
    "\n",
    "\n",
    "def entropia_prob_pq(x):\n",
    "    \"\"\"Devuelve la entropia de una probabilidad de dos posibilidades\"\"\"\n",
    "    return round((-x * np.log2(x)) + (-(1 - x ) * np.log2((1 - x))), 3)\n",
    "\n",
    "\n",
    "def entropia_posibilidades(x):\n",
    "    \"\"\"Devuelve la entropía para la cantidad de posibilidades independientes x\"\"\"\n",
    "    return round(np.log2(x), 3)"
   ]
  },
  {
   "cell_type": "code",
   "execution_count": 2,
   "metadata": {},
   "outputs": [
    {
     "data": {
      "image/png": "[encoded data removed]",
      "text/plain": [
       "<matplotlib.figure.Figure at 0x7f5a983af9e8>"
      ]
     },
     "metadata": {},
     "output_type": "display_data"
    }
   ],
   "source": [
    "# Graficando la información como sorpresa\n",
    "# Mientras menos probable, más sorpresa y más información contiene.\n",
    "vent = np.vectorize(entropia_posibilidades)\n",
    "\n",
    "X = np.linspace(0, 1, 11)\n",
    "\n",
    "plt.plot(X, vent(X)*-1)\n",
    "plt.title(\"Información como sorpresa\")\n",
    "plt.grid(color='b', linestyle='-', linewidth=.3)\n",
    "plt.xlabel(r'Probabilidades $p(x)$')\n",
    "plt.ylabel(r'sorpresa $H(x) = log_2 1/p(x)$')\n",
    "plt.show()"
   ]
  },
  {
   "cell_type": "code",
   "execution_count": 3,
   "metadata": {},
   "outputs": [
    {
     "data": {
      "image/png": "[encoded data removed]",
      "text/plain": [
       "<matplotlib.figure.Figure at 0x7f5a983afac8>"
      ]
     },
     "metadata": {},
     "output_type": "display_data"
    }
   ],
   "source": [
    "# Graficando la entropia en el caso de 2 posibilidades con\n",
    "# probabilidad p y (1- p)\n",
    "\n",
    "# vectorizar la función para poder pasarle un vector de parámetro\n",
    "vent = np.vectorize(entropia_prob_pq)\n",
    "\n",
    "X = np.linspace(0, 1, 11)\n",
    "\n",
    "plt.plot(X, vent(X))\n",
    "plt.title(\"Entropia para 2 posibilidades con probabilidad p\")\n",
    "plt.grid(color='b', linestyle='-', linewidth=.3)\n",
    "plt.xlabel('Probabilidades p')\n",
    "plt.ylabel('Bits')\n",
    "plt.show()"
   ]
  },
  {
   "cell_type": "code",
   "execution_count": 4,
   "metadata": {},
   "outputs": [
    {
     "data": {
      "text/plain": [
       "(1.0, 1.0)"
      ]
     },
     "execution_count": 4,
     "metadata": {},
     "output_type": "execute_result"
    }
   ],
   "source": [
    "# La entropia de una muestra de 2 posibilidades completamente\n",
    "# aleatorias, en la que cualquiera de los 2 valores tiene la \n",
    "# misma probabilidad (p=0.5) de ser seleccionada es de 1 bit\n",
    "\n",
    "# Muestra de 10000 valores aleatorios entre 0 y 1\n",
    "X = np.random.randint(0, 2, size=10000)\n",
    "\n",
    "entropia(X), entropia_posibilidades(2)"
   ]
  },
  {
   "cell_type": "code",
   "execution_count": 5,
   "metadata": {},
   "outputs": [
    {
     "data": {
      "text/plain": [
       "(3.0, 3.0)"
      ]
     },
     "execution_count": 5,
     "metadata": {},
     "output_type": "execute_result"
    }
   ],
   "source": [
    "# La entropia de una muestra de 8 posibilidades completamente\n",
    "# aleatorias es igual a 3 bits.\n",
    "\n",
    "# Muestra de 10000 valores aleatorios entre 0 y 7\n",
    "X = np.random.randint(0, 8, size=10000)\n",
    "\n",
    "entropia(X), entropia_posibilidades(8)"
   ]
  },
  {
   "cell_type": "markdown",
   "metadata": {},
   "source": [
    "## Redundancia\n",
    "\n",
    "Otro de los conceptos fundamentales de la [Teoría de la información](https://es.wikipedia.org/wiki/Teor%C3%ADa_de_la_informaci%C3%B3n) es el de [Redundancia](https://es.wikipedia.org/wiki/Redundancia). La [Redundancia](https://es.wikipedia.org/wiki/Redundancia) son esas pistas adicionales en una sentencia o mensaje que nos permiten entender su significado incluso si el mensaje esta incompleto o distorsionado; son esos caracteres extra en una cadena de símbolos, la parte predecible que nos permite completar la *información* faltante. Cualquier sentencia de cualquier lenguaje es altamente redundante. Todo sentencia nos proporciona *información* adicional para que podemos descifrarla. Esta [Redundancia](https://es.wikipedia.org/wiki/Redundancia) es fácil de ver, simplemente tr-t- d- l--r -st- m-ns-j-. A pesar de que quitemos todas la vocales, igualmente se podemos entender la sentencia.\n",
    "\n",
    "Para nosotros, la redundancia del lenguaje es algo bueno, porque hace que un mensaje sea más fácil de comprender incluso cuando el mensaje está parcialmente modificado por el entorno. Podemos entender a un amigo hablando en un restaurante abarrotado de gente o hablando con un teléfono celular con mucha estática gracias a la [Redundancia](https://es.wikipedia.org/wiki/Redundancia) . La [Redundancia](https://es.wikipedia.org/wiki/Redundancia)  es un mecanismo de seguridad; nos asegura que el mensaje se transmita incluso si se daña levemente en el camino. Todos los idiomas tienen estas redes de seguridad integradas compuestas de patrones, estructuras y un conjunto de reglas que los hacen redundantes. Usualmente no estamos al tanto de esas reglas, pero nuestro cerebro las usa inconscientemente mientras leemos, hablamos, escuchamos y escribimos. \n",
    "\n",
    "Cuando eliminamos toda la redundancia en una cadena de símbolos, lo que queda es su núcleo concreto y cuantificable. Eso es la *información*, ese algo central e irreductible que se encuentra en la esencia de toda sentencia. \n",
    "\n",
    "Para explorar en carne propia como la *información* es una medida de sorpresa y como la mayoría de los mensajes contienen bastantes *[Bits](https://es.wikipedia.org/wiki/Bit)* redundantes, les dejo otro juego; la idea es adivinar nombres que empiezan con \"R\" de Raúl a medida que se van descubriendo nuevas letras. Les garantizo que podrán descubrir los nombres sin tener que llegar que se descubra la última letra!\n",
    "<br>\n",
    "<button onclick=\"adivinar_nombres()\">Jugar a Adivinar el nombre!</button>\n",
    "\n",
    "<script>\n",
    "function adivinar_nombres(){\n",
    "  var nombres_R = [\n",
    "    \"ramses\", \"rodolfo\", \"regina\", \"ruth\", \"ramiro\",\n",
    "    \"ramon\", \"roxana\", \"rebeca\", \"raquel\", \"ruben\",\n",
    "    \"rosario\", \"renata\", \"raul\", \"romina\", \"roberto\",\n",
    "    \"ricardo\", \"rafael\", \"rosa\", \"rodrigo\", \"rocio\"\n",
    "  ]\n",
    "  var index = Math.floor(Math.random()*20) - 1;\n",
    "  var mi_nombre = nombres_R[index];\n",
    "  var bits = 1;\n",
    "  var tu_nombre = prompt(\"Adivina el nombre! Empieza con R y tiene \" + mi_nombre.length + \" letras: \").toLowerCase();\n",
    "  var letras = 2;\n",
    "  while (mi_nombre != tu_nombre) {\n",
    "    mi_nombre_parcial = mi_nombre.substring(0, letras);\n",
    "    if (mi_nombre_parcial === mi_nombre) {\n",
    "      break;\n",
    "    }\n",
    "    tu_nombre = prompt(\"Inténtalo otra vez! Empieza con \" + mi_nombre_parcial + \" y tiene \"+ mi_nombre.length + \" letras: \").toLowerCase();\n",
    "    bits++;\n",
    "    letras++;\n",
    "  }\n",
    "  alert(\"El nombre es \" + mi_nombre.toUpperCase() + \"! y has utilizado \" + bits + \" bits! Los restantes \" + (mi_nombre.length - bits) + \" son redundantes!\" );\n",
    "}\n",
    "</script>\n",
    "\n",
    "## Información e incertidumbre\n",
    "\n",
    "Nuestra experiencia del mundo nos lleva a concluir que muchos eventos son impredecibles y algunas veces bastante inesperados. Estos pueden variar desde el resultado de simples juegos de azar como arrojar una moneda e intentar adivinar si será cara o cruz, al colapso repentino de los gobiernos, o la caída dramática de los precios de las acciones en el mercado bursátil. Cuando tratamos de interpretar tales eventos, es probable que tomemos uno de dos enfoques: nos encogeremos de hombros y diremos que fue por *casualidad* o argumentaremos que podríamos haber sido más capaces de predecir, por ejemplo, el colapso del gobierno si hubiéramos tenido más *información* sobre las acciones de ciertos ministros. En cierto sentido, podemos decir que estos dos conceptos de *información* e *incertidumbre* están más estrechamente relacionados de lo que podríamos pensar. De hecho, cuando nos enfrentamos a la *incertidumbre*, nuestra tendencia natural es buscar *información* que nos ayude a reducir esa *incertidumbre* en nuestras mentes. Las herramientas que nos proporciona la [Teoría de la información](https://es.wikipedia.org/wiki/Teor%C3%ADa_de_la_informaci%C3%B3n) están en las bases de todos los modelos que desarrollamos para intentar predecir y lidiar con la *incertidumbre* del futuro.\n",
    "\n",
    "Aquí concluye esta introducción, el trabajo de [Shannon](https://es.wikipedia.org/wiki/Claude_Elwood_Shannon) habrió un campo enorme del conocimiento científico. Por años, criptógrafos habían intentado esconder *información* y reducir la redundancia sin siquiera saber como medirlas; o los ingenieros trataron de diseñar maneras eficientes de transmitir mensajes sin conocer los límites que la Naturaleza ponía a su eficiencia. La [Teoría de la información](https://es.wikipedia.org/wiki/Teor%C3%ADa_de_la_informaci%C3%B3n) de [Shannon](https://es.wikipedia.org/wiki/Claude_Elwood_Shannon) revolucionó la [criptografía](https://es.wikipedia.org/wiki/Criptograf%C3%ADa), el [procesamiento de señales](https://es.wikipedia.org/wiki/Procesamiento_digital_de_se%C3%B1ales), las [ciencias de la computación](https://es.wikipedia.org/wiki/Ciencias_de_la_computaci%C3%B3n), la [física](https://es.wikipedia.org/wiki/F%C3%ADsica), y un gran número de otros campos.\n",
    "\n",
    "Para cerrar, les dejo la implementación de los juegos utilizados en el artículo utilizando [Python](https://www.python.org/)! :)\n",
    "\n",
    "Saludos!"
   ]
  },
  {
   "cell_type": "code",
   "execution_count": 6,
   "metadata": {
    "code_folding": [
     0
    ]
   },
   "outputs": [],
   "source": [
    "# <!-- collapse=True -->\n",
    "import random\n",
    "\n",
    "random.seed(1982)\n",
    "\n",
    "\n",
    "def adivinar_numero():\n",
    "    mi_numero = random.randint(1, 1000)\n",
    "    bits = 1\n",
    "    tu_numero = int(input(\"Adivine un número entero entre 1 y 1000\\nIngrese un número entre 1 y 1000: \"))\n",
    "    \n",
    "    while tu_numero != mi_numero:\n",
    "        if tu_numero < mi_numero:\n",
    "            tu_numero = int(input(\"Su número es muy bajo!\\nIngrese otro número entre 1 y 1000:\"))\n",
    "        else:\n",
    "            tu_numero = int(input(\"Su número es muy alto!\\nIngrese otro número entre 1 y 1000:\"))\n",
    "        bits += 1\n",
    "    \n",
    "    print(\"Felicidades el número es {0} y ha utilizado {1} bits!\".format(mi_numero, bits))"
   ]
  },
  {
   "cell_type": "code",
   "execution_count": 7,
   "metadata": {
    "code_folding": [
     0
    ]
   },
   "outputs": [],
   "source": [
    "# <!-- collapse=True -->\n",
    "def adivinar_nombre():\n",
    "    nombres = [\n",
    "    \"ramses\", \"rodolfo\", \"regina\", \"ruth\", \"ramiro\",\n",
    "    \"ramon\", \"roxana\", \"rebeca\", \"raquel\", \"ruben\",\n",
    "    \"rosario\", \"renata\", \"raul\", \"romina\", \"roberto\",\n",
    "    \"ricardo\", \"rafael\", \"rosa\", \"rodrigo\", \"rocio\"\n",
    "    ]\n",
    "    index = random.randint(0, 19)\n",
    "    mi_nombre = nombres[index]\n",
    "    tu_nombre = input(\"Adivina el nombre! Empieza con R y tiene {} letras: \".format(len(mi_nombre)))\n",
    "    letras = 2\n",
    "    bits = 1\n",
    "    \n",
    "    while tu_nombre.lower() != mi_nombre:\n",
    "        mi_nombre_parcial = mi_nombre[:letras]\n",
    "        if mi_nombre_parcial == mi_nombre:\n",
    "            break\n",
    "        \n",
    "        tu_nombre = input(\"Inténtalo otra vez! Empieza con {0} y tiene {1} letras:\".format(mi_nombre_parcial,\n",
    "                                                                                           letras))\n",
    "        bits += 1\n",
    "        letras += 1\n",
    "    \n",
    "    print(\"El nombre es {0} y has utilizado {1} bits! Los restantes {2} son redundantes!\".format(mi_nombre.upper(),\n",
    "                                                                                                bits, \n",
    "                                                                                                 len(mi_nombre) - bits))\n",
    "        "
   ]
  },
  {
   "cell_type": "code",
   "execution_count": null,
   "metadata": {},
   "outputs": [],
   "source": [
    "adivinar_numero()"
   ]
  },
  {
   "cell_type": "code",
   "execution_count": null,
   "metadata": {},
   "outputs": [],
   "source": [
    "adivinar_nombre()"
   ]
  },
  {
   "cell_type": "markdown",
   "metadata": {},
   "source": [
    "*Este post fue escrito utilizando [Jupyter notebook](https://jupyter.org/). Pueden descargar este [notebook](https://github.com/relopezbriega/relopezbriega.github.io/blob/master/downloads/pyInformationTheory.ipynb) o ver su version estática en [nbviewer](https://nbviewer.ipython.org/github/relopezbriega/relopezbriega.github.io/blob/master/downloads/pyInformationTheory.ipynb).*"
   ]
  }
 ],
 "metadata": {
  "kernelspec": {
   "display_name": "Python 3",
   "language": "python",
   "name": "python3"
  },
  "language_info": {
   "codemirror_mode": {
    "name": "ipython",
    "version": 3
   },
   "file_extension": ".py",
   "mimetype": "text/x-python",
   "name": "python",
   "nbconvert_exporter": "python",
   "pygments_lexer": "ipython3",
   "version": "3.7.8"
  },
  "toc": {
   "nav_menu": {},
   "number_sections": true,
   "sideBar": true,
   "skip_h1_title": false,
   "title_cell": "Table of Contents",
   "title_sidebar": "Contents",
   "toc_cell": false,
   "toc_position": {},
   "toc_section_display": true,
   "toc_window_display": false
  },
  "varInspector": {
   "cols": {
    "lenName": 16,
    "lenType": 16,
    "lenVar": 40
   },
   "kernels_config": {
    "python": {
     "delete_cmd_postfix": "",
     "delete_cmd_prefix": "del ",
     "library": "var_list.py",
     "varRefreshCmd": "print(var_dic_list())"
    },
    "r": {
     "delete_cmd_postfix": ") ",
     "delete_cmd_prefix": "rm(",
     "library": "var_list.r",
     "varRefreshCmd": "cat(var_dic_list()) "
    }
   },
   "types_to_exclude": [
    "module",
    "function",
    "builtin_function_or_method",
    "instance",
    "_Feature"
   ],
   "window_display": false
  }
 },
 "nbformat": 4,
 "nbformat_minor": 2
}
