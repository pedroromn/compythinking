{
 "cells": [
  {
   "cell_type": "markdown",
   "metadata": {},
   "source": [
    "# Sentinel Controlled Repetition"
   ]
  },
  {
   "cell_type": "code",
   "execution_count": 1,
   "metadata": {
    "tags": []
   },
   "outputs": [
    {
     "output_type": "stream",
     "name": "stdout",
     "text": "Class average is 10.50\n"
    }
   ],
   "source": [
    "\"\"\" Class average program with sentinel-controlled iteration \"\"\"\n",
    "\n",
    "#initialization phase\n",
    "total = 0  # sum of grades\n",
    "grade_counter = 0  # number of grades entered\n",
    "\n",
    "#processing phase\n",
    "grade = int(input(\"Enter grade, -1 to end: \"))\n",
    "\n",
    "while grade != -1:\n",
    "    total += grade\n",
    "    grade_counter += 1\n",
    "    grade = int(input(\"Enter grade, -1 to end: \"))\n",
    "    \n",
    "#termination phase\n",
    "if grade_counter != 0:\n",
    "    average = total / grade_counter\n",
    "    print(f\"Class average is {average:.2f}\")\n",
    "else:\n",
    "    print(\"No grades were entered\")"
   ]
  },
  {
   "cell_type": "markdown",
   "metadata": {},
   "source": [
    "# Using Type Decimal for Monetary Amounts"
   ]
  },
  {
   "cell_type": "markdown",
   "metadata": {},
   "source": [
    "## Importing Type Decimal from the decimal Module"
   ]
  },
  {
   "cell_type": "code",
   "execution_count": 2,
   "metadata": {},
   "outputs": [],
   "source": [
    "from decimal import Decimal"
   ]
  },
  {
   "cell_type": "code",
   "execution_count": 3,
   "metadata": {},
   "outputs": [
    {
     "output_type": "execute_result",
     "data": {
      "text/plain": "decimal.Decimal"
     },
     "metadata": {},
     "execution_count": 3
    }
   ],
   "source": [
    "principal = Decimal('1000.00')\n",
    "rate = Decimal('0.05')\n",
    "type(principal)"
   ]
  },
  {
   "cell_type": "code",
   "execution_count": 4,
   "metadata": {},
   "outputs": [
    {
     "output_type": "execute_result",
     "data": {
      "text/plain": "Decimal('12.5')"
     },
     "metadata": {},
     "execution_count": 4
    }
   ],
   "source": [
    "x = Decimal('10.5')\n",
    "y = Decimal('2')\n",
    "x + y"
   ]
  },
  {
   "cell_type": "code",
   "execution_count": 5,
   "metadata": {
    "tags": []
   },
   "outputs": [
    {
     "output_type": "stream",
     "name": "stdout",
     "text": "1   1050.00\n 2   1102.50\n 3   1157.62\n 4   1215.51\n 5   1276.28\n 6   1340.10\n 7   1407.10\n 8   1477.46\n 9   1551.33\n10   1628.89\n"
    }
   ],
   "source": [
    "# Calculating Compound Interest\n",
    "for year in range(1, 11):\n",
    "    amount = principal * (1 + rate)**year\n",
    "    print(f\"{year:>2}{amount:>10.2f}\")"
   ]
  },
  {
   "cell_type": "markdown",
   "metadata": {},
   "source": [
    "# 3.17 Intro to Data Science: Measure of Central Tendency - Mean, Median and Mode"
   ]
  },
  {
   "cell_type": "code",
   "execution_count": 6,
   "metadata": {
    "tags": []
   },
   "outputs": [
    {
     "output_type": "stream",
     "name": "stdout",
     "text": "mean: 89.77777777777777\nmedian: 89\nmode: 85\n"
    }
   ],
   "source": [
    "import statistics\n",
    "\n",
    "grades = [85, 93, 85, 89, 85, 95, 97, 89, 90]\n",
    "print(f\"mean: {statistics.mean(grades)}\")\n",
    "print(f'median: {statistics.median(grades)}')\n",
    "print(f'mode: {statistics.mode(grades)}')"
   ]
  },
  {
   "cell_type": "markdown",
   "metadata": {},
   "source": [
    "# 3.18 Wrap-Up\n",
    "## Exercises\n",
    "### TODO pages 111 - 117"
   ]
  },
  {
   "cell_type": "markdown",
   "metadata": {},
   "source": [
    "# 4 *********** FUNCTIONS *********** "
   ]
  },
  {
   "cell_type": "code",
   "execution_count": 7,
   "metadata": {
    "tags": []
   },
   "outputs": [
    {
     "output_type": "stream",
     "name": "stdout",
     "text": "49\n6.25\n"
    }
   ],
   "source": [
    "def square(number):\n",
    "    \"\"\" Calculate the square of a number. \"\"\"\n",
    "    return number**2\n",
    "\n",
    "print(square(7))\n",
    "print(square(2.5))"
   ]
  },
  {
   "cell_type": "code",
   "execution_count": 8,
   "metadata": {},
   "outputs": [
    {
     "output_type": "stream",
     "text": "\u001b[1;31mSignature:\u001b[0m \u001b[0msquare\u001b[0m\u001b[1;33m(\u001b[0m\u001b[0mnumber\u001b[0m\u001b[1;33m)\u001b[0m\u001b[1;33m\u001b[0m\u001b[1;33m\u001b[0m\u001b[0m\n\u001b[1;31mDocstring:\u001b[0m Calculate the square of a number. \n\u001b[1;31mFile:\u001b[0m      e:\\codework\\compythinking\\jupyter_practice\\<ipython-input-7-2802da62178e>\n\u001b[1;31mType:\u001b[0m      function\n"
    }
   ],
   "source": [
    "square?"
   ]
  },
  {
   "cell_type": "code",
   "execution_count": 9,
   "metadata": {},
   "outputs": [
    {
     "output_type": "stream",
     "text": "\u001b[1;31mSignature:\u001b[0m \u001b[0msquare\u001b[0m\u001b[1;33m(\u001b[0m\u001b[0mnumber\u001b[0m\u001b[1;33m)\u001b[0m\u001b[1;33m\u001b[0m\u001b[1;33m\u001b[0m\u001b[0m\n\u001b[1;31mSource:\u001b[0m   \n\u001b[1;32mdef\u001b[0m \u001b[0msquare\u001b[0m\u001b[1;33m(\u001b[0m\u001b[0mnumber\u001b[0m\u001b[1;33m)\u001b[0m\u001b[1;33m:\u001b[0m\u001b[1;33m\n\u001b[0m    \u001b[1;34m\"\"\" Calculate the square of a number. \"\"\"\u001b[0m\u001b[1;33m\n\u001b[0m    \u001b[1;32mreturn\u001b[0m \u001b[0mnumber\u001b[0m\u001b[1;33m**\u001b[0m\u001b[1;36m2\u001b[0m\u001b[1;33m\u001b[0m\u001b[1;33m\u001b[0m\u001b[0m\n\u001b[1;31mFile:\u001b[0m      e:\\codework\\compythinking\\jupyter_practice\\<ipython-input-7-2802da62178e>\n\u001b[1;31mType:\u001b[0m      function\n"
    }
   ],
   "source": [
    "square??"
   ]
  },
  {
   "cell_type": "markdown",
   "metadata": {},
   "source": [
    "## Functions with Multiple Parameters"
   ]
  },
  {
   "cell_type": "code",
   "execution_count": 10,
   "metadata": {
    "tags": []
   },
   "outputs": [
    {
     "output_type": "stream",
     "name": "stdout",
     "text": "maximum(12, 27, 36): 36\nmaximum('yellow', 'red', 'orange'): yellow\n"
    }
   ],
   "source": [
    "def maximum(value1, value2, value3):\n",
    "    \"\"\" Return the maximum of three values. \"\"\"\n",
    "    max_value = value1\n",
    "    if value2 > max_value:\n",
    "        max_value = value2\n",
    "    if value3 > max_value:\n",
    "        max_value = value3\n",
    "    \n",
    "    return max_value\n",
    "\n",
    "\n",
    "print(f'maximum(12, 27, 36): {maximum(12, 27, 36)}')\n",
    "print(f\"maximum('yellow', 'red', 'orange'): {maximum('yellow','red','orange')}\")\n",
    "        "
   ]
  },
  {
   "cell_type": "markdown",
   "metadata": {},
   "source": [
    "### Python's Built-In max and min Functions"
   ]
  },
  {
   "cell_type": "code",
   "execution_count": 11,
   "metadata": {},
   "outputs": [
    {
     "output_type": "execute_result",
     "data": {
      "text/plain": "'yellow'"
     },
     "metadata": {},
     "execution_count": 11
    }
   ],
   "source": [
    "max('yellow','red','orange','blue','green')"
   ]
  },
  {
   "cell_type": "code",
   "execution_count": 12,
   "metadata": {},
   "outputs": [
    {
     "output_type": "execute_result",
     "data": {
      "text/plain": "9"
     },
     "metadata": {},
     "execution_count": 12
    }
   ],
   "source": [
    "min(15, 9, 27, 14)"
   ]
  },
  {
   "cell_type": "markdown",
   "metadata": {},
   "source": [
    "## 4.4 Random-Number Generation"
   ]
  },
  {
   "cell_type": "code",
   "execution_count": 13,
   "metadata": {},
   "outputs": [],
   "source": [
    "# pag 127 del libro - Seeding the Randon Number"
   ]
  },
  {
   "cell_type": "code",
   "execution_count": 14,
   "metadata": {
    "tags": []
   },
   "outputs": [
    {
     "output_type": "stream",
     "name": "stdout",
     "text": "1\n2\n2\n3\n6\n2\n4\n1\n6\n1\n\n1\n3\n5\n3\n1\n5\n6\n4\n3\n5\n"
    }
   ],
   "source": [
    "import random\n",
    "random.seed(32)\n",
    "\n",
    "for roll in range(10):\n",
    "    print(random.randrange(1, 7), sep=' ')\n",
    "print()\n",
    "for roll in range(10):\n",
    "    print(random.randrange(1, 7), sep=' ')"
   ]
  },
  {
   "cell_type": "code",
   "execution_count": 15,
   "metadata": {
    "tags": []
   },
   "outputs": [
    {
     "output_type": "stream",
     "name": "stdout",
     "text": "1\n2\n2\n3\n6\n2\n4\n1\n6\n1\n"
    }
   ],
   "source": [
    "random.seed(32)\n",
    "\n",
    "for roll in range(10):\n",
    "    print(random.randrange(1, 7), sep=' ')"
   ]
  },
  {
   "cell_type": "code",
   "execution_count": 16,
   "metadata": {
    "tags": []
   },
   "outputs": [
    {
     "output_type": "stream",
     "name": "stdout",
     "text": "<class 'function'>\n2959805954944\n"
    }
   ],
   "source": [
    "print(type(square))\n",
    "print(id(square))"
   ]
  },
  {
   "cell_type": "code",
   "execution_count": 23,
   "metadata": {
    "tags": []
   },
   "outputs": [
    {
     "output_type": "stream",
     "name": "stdout",
     "text": "average(5,10) => 7.5\naverage(5,10,15) => 10.0\naverage(5,10,15,20,25) => 15.0\n"
    }
   ],
   "source": [
    "# Arbitrary Argument Lists\n",
    "def average(*args):\n",
    "    return sum(args) / len(args)\n",
    "\n",
    "print(f\"average(5,10) => {average(5, 10)}\")\n",
    "print(f\"average(5,10,15) => {average(5, 10, 15)}\")\n",
    "print(f\"average(5,10,15,20,25) => {average(5, 10, 15, 20, 25)}\")"
   ]
  },
  {
   "cell_type": "code",
   "execution_count": 25,
   "metadata": {
    "tags": []
   },
   "outputs": [
    {
     "output_type": "stream",
     "name": "stdout",
     "text": "Average of grades: 81.22\n"
    }
   ],
   "source": [
    "# individual Elements as Function Arguments\n",
    "grades = [88, 75, 96, 55, 83, 90, 87, 77, 80]\n",
    "average_grades = average(*grades)\n",
    "print(f\"Average of grades: {average_grades:.2f}\")"
   ]
  },
  {
   "cell_type": "code",
   "execution_count": 1,
   "metadata": {
    "tags": []
   },
   "outputs": [
    {
     "output_type": "stream",
     "name": "stdout",
     "text": "x_global printed from access_global function: 7\n"
    }
   ],
   "source": [
    "# Accessing a global variable from a function\n",
    "x_global = 7\n",
    "\n",
    "def access_global():\n",
    "    print(f'x_global printed from access_global function: {x_global}')\n",
    "\n",
    "access_global()"
   ]
  },
  {
   "cell_type": "code",
   "execution_count": 3,
   "metadata": {
    "tags": []
   },
   "outputs": [
    {
     "output_type": "stream",
     "name": "stdout",
     "text": "x_global <= 3.5 - printed from try_to_modify_global function - x_global: 3.5\nx_global: 7\n"
    }
   ],
   "source": [
    "# Try modify global variable from a function\n",
    "def try_to_modify_global():\n",
    "    x_global = 3.5\n",
    "    print(f'x_global <= 3.5 - printed from try_to_modify_global function - x_global: {x_global}')\n",
    "\n",
    "try_to_modify_global()\n",
    "print(f\"x_global: {x_global}\")"
   ]
  },
  {
   "cell_type": "code",
   "execution_count": 5,
   "metadata": {
    "tags": []
   },
   "outputs": [
    {
     "output_type": "stream",
     "name": "stdout",
     "text": "x_global <= \"Hello\" - printed from try_to_modify_global function - x_global: Hello\nx_global: Hello\n"
    }
   ],
   "source": [
    "# Modify global variable from a function\n",
    "def modify_global():\n",
    "    global x_global\n",
    "    x_global = \"Hello\"\n",
    "    print(f'x_global <= \"Hello\" - printed from try_to_modify_global function - x_global: {x_global}')\n",
    "\n",
    "modify_global()\n",
    "print(f\"x_global: {x_global}\")\n"
   ]
  },
  {
   "cell_type": "code",
   "execution_count": 9,
   "metadata": {
    "tags": []
   },
   "outputs": [
    {
     "output_type": "stream",
     "name": "stdout",
     "text": "3.141592653589793\n1.4142135623730951\n3.141592653589793 1.4142135623730951\n"
    }
   ],
   "source": [
    "from math import pi, sqrt\n",
    "print(pi)\n",
    "print(sqrt(2))\n",
    "print(pi, sqrt(2))"
   ]
  },
  {
   "cell_type": "code",
   "execution_count": 15,
   "metadata": {
    "tags": []
   },
   "outputs": [
    {
     "output_type": "stream",
     "name": "stdout",
     "text": "[67, 62, 46, 15, 12, 79, 60, 21, 98, 36, 98, 15, 67, 80, 47, 76, 56, 96, 94, 92]\nMean: 60.85\nStandard Desv: 29.29\n"
    }
   ],
   "source": [
    "# Binding Names for Modules and Module Identifiers\n",
    "import statistics as stats\n",
    "import random\n",
    "\n",
    "grades = [random.randint(1,100) for _ in range(20)]\n",
    "print(grades)\n",
    "print(f'Mean: {stats.mean(grades)}')\n",
    "print(f'Standard Desv: {stats.stdev(grades):.4}')\n"
   ]
  },
  {
   "cell_type": "code",
   "execution_count": null,
   "metadata": {},
   "outputs": [],
   "source": []
  }
 ],
 "metadata": {
  "kernelspec": {
   "display_name": "Python 3",
   "language": "python",
   "name": "python3"
  },
  "language_info": {
   "codemirror_mode": {
    "name": "ipython",
    "version": 3
   },
   "file_extension": ".py",
   "mimetype": "text/x-python",
   "name": "python",
   "nbconvert_exporter": "python",
   "pygments_lexer": "ipython3",
   "version": "3.7.8-final"
  }
 },
 "nbformat": 4,
 "nbformat_minor": 4
}