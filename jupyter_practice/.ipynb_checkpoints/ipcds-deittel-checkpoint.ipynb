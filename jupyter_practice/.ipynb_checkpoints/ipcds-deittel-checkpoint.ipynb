{
 "cells": [
  {
   "cell_type": "markdown",
   "metadata": {},
   "source": [
    "# Sentinel Controlled Repetition"
   ]
  },
  {
   "cell_type": "code",
   "execution_count": 1,
   "metadata": {
    "tags": []
   },
   "outputs": [
    {
     "name": "stdout",
     "output_type": "stream",
     "text": [
      "Class average is 10.50\n"
     ]
    }
   ],
   "source": [
    "\"\"\" Class average program with sentinel-controlled iteration \"\"\"\n",
    "\n",
    "#initialization phase\n",
    "total = 0  # sum of grades\n",
    "grade_counter = 0  # number of grades entered\n",
    "\n",
    "#processing phase\n",
    "grade = int(input(\"Enter grade, -1 to end: \"))\n",
    "\n",
    "while grade != -1:\n",
    "    total += grade\n",
    "    grade_counter += 1\n",
    "    grade = int(input(\"Enter grade, -1 to end: \"))\n",
    "    \n",
    "#termination phase\n",
    "if grade_counter != 0:\n",
    "    average = total / grade_counter\n",
    "    print(f\"Class average is {average:.2f}\")\n",
    "else:\n",
    "    print(\"No grades were entered\")"
   ]
  },
  {
   "cell_type": "markdown",
   "metadata": {},
   "source": [
    "# Using Type Decimal for Monetary Amounts"
   ]
  },
  {
   "cell_type": "markdown",
   "metadata": {},
   "source": [
    "## Importing Type Decimal from the decimal Module"
   ]
  },
  {
   "cell_type": "code",
   "execution_count": 2,
   "metadata": {},
   "outputs": [],
   "source": [
    "from decimal import Decimal"
   ]
  },
  {
   "cell_type": "code",
   "execution_count": 3,
   "metadata": {},
   "outputs": [
    {
     "data": {
      "text/plain": [
       "decimal.Decimal"
      ]
     },
     "execution_count": 3,
     "metadata": {},
     "output_type": "execute_result"
    }
   ],
   "source": [
    "principal = Decimal('1000.00')\n",
    "rate = Decimal('0.05')\n",
    "type(principal)"
   ]
  },
  {
   "cell_type": "code",
   "execution_count": 4,
   "metadata": {},
   "outputs": [
    {
     "data": {
      "text/plain": [
       "Decimal('12.5')"
      ]
     },
     "execution_count": 4,
     "metadata": {},
     "output_type": "execute_result"
    }
   ],
   "source": [
    "x = Decimal('10.5')\n",
    "y = Decimal('2')\n",
    "x + y"
   ]
  },
  {
   "cell_type": "code",
   "execution_count": 5,
   "metadata": {
    "tags": []
   },
   "outputs": [
    {
     "name": "stdout",
     "output_type": "stream",
     "text": [
      "1   1050.00\n",
      " 2   1102.50\n",
      " 3   1157.62\n",
      " 4   1215.51\n",
      " 5   1276.28\n",
      " 6   1340.10\n",
      " 7   1407.10\n",
      " 8   1477.46\n",
      " 9   1551.33\n",
      "10   1628.89\n"
     ]
    }
   ],
   "source": [
    "# Calculating Compound Interest\n",
    "for year in range(1, 11):\n",
    "    amount = principal * (1 + rate)**year\n",
    "    print(f\"{year:>2}{amount:>10.2f}\")"
   ]
  },
  {
   "cell_type": "markdown",
   "metadata": {},
   "source": [
    "# 3.17 Intro to Data Science: Measure of Central Tendency - Mean, Median and Mode"
   ]
  },
  {
   "cell_type": "code",
   "execution_count": 1,
   "metadata": {
    "tags": []
   },
   "outputs": [
    {
     "name": "stdout",
     "output_type": "stream",
     "text": [
      "mean: 89.78\n",
      "median: 89\n",
      "mode: 85\n"
     ]
    }
   ],
   "source": [
    "import statistics\n",
    "\n",
    "grades = [85, 93, 85, 89, 85, 95, 97, 89, 90]\n",
    "print(f\"mean: {statistics.mean(grades):.2f}\")\n",
    "print(f'median: {statistics.median(grades)}')\n",
    "print(f'mode: {statistics.mode(grades)}')"
   ]
  },
  {
   "cell_type": "markdown",
   "metadata": {},
   "source": [
    "# 3.18 Wrap-Up\n",
    "## Exercises\n",
    "### TODO pages 111 - 117"
   ]
  },
  {
   "cell_type": "markdown",
   "metadata": {},
   "source": [
    "# 4 *********** FUNCTIONS *********** "
   ]
  },
  {
   "cell_type": "code",
   "execution_count": 7,
   "metadata": {
    "tags": []
   },
   "outputs": [
    {
     "name": "stdout",
     "output_type": "stream",
     "text": [
      "49\n",
      "6.25\n"
     ]
    }
   ],
   "source": [
    "def square(number):\n",
    "    \"\"\" Calculate the square of a number. \"\"\"\n",
    "    return number**2\n",
    "\n",
    "print(square(7))\n",
    "print(square(2.5))"
   ]
  },
  {
   "cell_type": "code",
   "execution_count": 8,
   "metadata": {},
   "outputs": [
    {
     "output_type": "stream",
     "text": [
      "\u001b[1;31mSignature:\u001b[0m \u001b[0msquare\u001b[0m\u001b[1;33m(\u001b[0m\u001b[0mnumber\u001b[0m\u001b[1;33m)\u001b[0m\u001b[1;33m\u001b[0m\u001b[1;33m\u001b[0m\u001b[0m\n",
      "\u001b[1;31mDocstring:\u001b[0m Calculate the square of a number. \n",
      "\u001b[1;31mFile:\u001b[0m      e:\\codework\\compythinking\\jupyter_practice\\<ipython-input-7-2802da62178e>\n",
      "\u001b[1;31mType:\u001b[0m      function\n"
     ]
    }
   ],
   "source": [
    "square?"
   ]
  },
  {
   "cell_type": "code",
   "execution_count": 9,
   "metadata": {},
   "outputs": [
    {
     "output_type": "stream",
     "text": [
      "\u001b[1;31mSignature:\u001b[0m \u001b[0msquare\u001b[0m\u001b[1;33m(\u001b[0m\u001b[0mnumber\u001b[0m\u001b[1;33m)\u001b[0m\u001b[1;33m\u001b[0m\u001b[1;33m\u001b[0m\u001b[0m\n",
      "\u001b[1;31mSource:\u001b[0m   \n",
      "\u001b[1;32mdef\u001b[0m \u001b[0msquare\u001b[0m\u001b[1;33m(\u001b[0m\u001b[0mnumber\u001b[0m\u001b[1;33m)\u001b[0m\u001b[1;33m:\u001b[0m\u001b[1;33m\n",
      "\u001b[0m    \u001b[1;34m\"\"\" Calculate the square of a number. \"\"\"\u001b[0m\u001b[1;33m\n",
      "\u001b[0m    \u001b[1;32mreturn\u001b[0m \u001b[0mnumber\u001b[0m\u001b[1;33m**\u001b[0m\u001b[1;36m2\u001b[0m\u001b[1;33m\u001b[0m\u001b[1;33m\u001b[0m\u001b[0m\n",
      "\u001b[1;31mFile:\u001b[0m      e:\\codework\\compythinking\\jupyter_practice\\<ipython-input-7-2802da62178e>\n",
      "\u001b[1;31mType:\u001b[0m      function\n"
     ]
    }
   ],
   "source": [
    "square??"
   ]
  },
  {
   "cell_type": "markdown",
   "metadata": {},
   "source": [
    "## Functions with Multiple Parameters"
   ]
  },
  {
   "cell_type": "code",
   "execution_count": 10,
   "metadata": {
    "tags": []
   },
   "outputs": [
    {
     "name": "stdout",
     "output_type": "stream",
     "text": [
      "maximum(12, 27, 36): 36\n",
      "maximum('yellow', 'red', 'orange'): yellow\n"
     ]
    }
   ],
   "source": [
    "def maximum(value1, value2, value3):\n",
    "    \"\"\" Return the maximum of three values. \"\"\"\n",
    "    max_value = value1\n",
    "    if value2 > max_value:\n",
    "        max_value = value2\n",
    "    if value3 > max_value:\n",
    "        max_value = value3\n",
    "    \n",
    "    return max_value\n",
    "\n",
    "\n",
    "print(f'maximum(12, 27, 36): {maximum(12, 27, 36)}')\n",
    "print(f\"maximum('yellow', 'red', 'orange'): {maximum('yellow','red','orange')}\")\n",
    "        "
   ]
  },
  {
   "cell_type": "markdown",
   "metadata": {},
   "source": [
    "### Python's Built-In max and min Functions"
   ]
  },
  {
   "cell_type": "code",
   "execution_count": 11,
   "metadata": {},
   "outputs": [
    {
     "data": {
      "text/plain": [
       "'yellow'"
      ]
     },
     "execution_count": 11,
     "metadata": {},
     "output_type": "execute_result"
    }
   ],
   "source": [
    "max('yellow','red','orange','blue','green')"
   ]
  },
  {
   "cell_type": "code",
   "execution_count": 12,
   "metadata": {},
   "outputs": [
    {
     "data": {
      "text/plain": [
       "9"
      ]
     },
     "execution_count": 12,
     "metadata": {},
     "output_type": "execute_result"
    }
   ],
   "source": [
    "min(15, 9, 27, 14)"
   ]
  },
  {
   "cell_type": "markdown",
   "metadata": {},
   "source": [
    "## 4.4 Random-Number Generation"
   ]
  },
  {
   "cell_type": "code",
   "execution_count": 13,
   "metadata": {},
   "outputs": [],
   "source": [
    "# pag 127 del libro - Seeding the Randon Number"
   ]
  },
  {
   "cell_type": "code",
   "execution_count": 14,
   "metadata": {
    "tags": []
   },
   "outputs": [
    {
     "name": "stdout",
     "output_type": "stream",
     "text": [
      "1\n",
      "2\n",
      "2\n",
      "3\n",
      "6\n",
      "2\n",
      "4\n",
      "1\n",
      "6\n",
      "1\n",
      "\n",
      "1\n",
      "3\n",
      "5\n",
      "3\n",
      "1\n",
      "5\n",
      "6\n",
      "4\n",
      "3\n",
      "5\n"
     ]
    }
   ],
   "source": [
    "import random\n",
    "random.seed(32)\n",
    "\n",
    "for roll in range(10):\n",
    "    print(random.randrange(1, 7), sep=' ')\n",
    "print()\n",
    "for roll in range(10):\n",
    "    print(random.randrange(1, 7), sep=' ')"
   ]
  },
  {
   "cell_type": "code",
   "execution_count": 15,
   "metadata": {
    "tags": []
   },
   "outputs": [
    {
     "name": "stdout",
     "output_type": "stream",
     "text": [
      "1\n",
      "2\n",
      "2\n",
      "3\n",
      "6\n",
      "2\n",
      "4\n",
      "1\n",
      "6\n",
      "1\n"
     ]
    }
   ],
   "source": [
    "random.seed(32)\n",
    "\n",
    "for roll in range(10):\n",
    "    print(random.randrange(1, 7), sep=' ')"
   ]
  },
  {
   "cell_type": "code",
   "execution_count": 16,
   "metadata": {
    "tags": []
   },
   "outputs": [
    {
     "name": "stdout",
     "output_type": "stream",
     "text": [
      "<class 'function'>\n",
      "2959805954944\n"
     ]
    }
   ],
   "source": [
    "print(type(square))\n",
    "print(id(square))"
   ]
  },
  {
   "cell_type": "code",
   "execution_count": 23,
   "metadata": {
    "tags": []
   },
   "outputs": [
    {
     "name": "stdout",
     "output_type": "stream",
     "text": [
      "average(5,10) => 7.5\n",
      "average(5,10,15) => 10.0\n",
      "average(5,10,15,20,25) => 15.0\n"
     ]
    }
   ],
   "source": [
    "# Arbitrary Argument Lists\n",
    "def average(*args):\n",
    "    return sum(args) / len(args)\n",
    "\n",
    "print(f\"average(5,10) => {average(5, 10)}\")\n",
    "print(f\"average(5,10,15) => {average(5, 10, 15)}\")\n",
    "print(f\"average(5,10,15,20,25) => {average(5, 10, 15, 20, 25)}\")"
   ]
  },
  {
   "cell_type": "code",
   "execution_count": 25,
   "metadata": {
    "tags": []
   },
   "outputs": [
    {
     "name": "stdout",
     "output_type": "stream",
     "text": [
      "Average of grades: 81.22\n"
     ]
    }
   ],
   "source": [
    "# individual Elements as Function Arguments\n",
    "grades = [88, 75, 96, 55, 83, 90, 87, 77, 80]\n",
    "average_grades = average(*grades)\n",
    "print(f\"Average of grades: {average_grades:.2f}\")"
   ]
  },
  {
   "cell_type": "code",
   "execution_count": 1,
   "metadata": {
    "tags": []
   },
   "outputs": [
    {
     "name": "stdout",
     "output_type": "stream",
     "text": [
      "x_global printed from access_global function: 7\n"
     ]
    }
   ],
   "source": [
    "# Accessing a global variable from a function\n",
    "x_global = 7\n",
    "\n",
    "def access_global():\n",
    "    print(f'x_global printed from access_global function: {x_global}')\n",
    "\n",
    "access_global()"
   ]
  },
  {
   "cell_type": "code",
   "execution_count": 3,
   "metadata": {
    "tags": []
   },
   "outputs": [
    {
     "name": "stdout",
     "output_type": "stream",
     "text": [
      "x_global <= 3.5 - printed from try_to_modify_global function - x_global: 3.5\n",
      "x_global: 7\n"
     ]
    }
   ],
   "source": [
    "# Try modify global variable from a function\n",
    "def try_to_modify_global():\n",
    "    x_global = 3.5\n",
    "    print(f'x_global <= 3.5 - printed from try_to_modify_global function - x_global: {x_global}')\n",
    "\n",
    "try_to_modify_global()\n",
    "print(f\"x_global: {x_global}\")"
   ]
  },
  {
   "cell_type": "code",
   "execution_count": 5,
   "metadata": {
    "tags": []
   },
   "outputs": [
    {
     "name": "stdout",
     "output_type": "stream",
     "text": [
      "x_global <= \"Hello\" - printed from try_to_modify_global function - x_global: Hello\n",
      "x_global: Hello\n"
     ]
    }
   ],
   "source": [
    "# Modify global variable from a function\n",
    "def modify_global():\n",
    "    global x_global\n",
    "    x_global = \"Hello\"\n",
    "    print(f'x_global <= \"Hello\" - printed from try_to_modify_global function - x_global: {x_global}')\n",
    "\n",
    "modify_global()\n",
    "print(f\"x_global: {x_global}\")\n"
   ]
  },
  {
   "cell_type": "code",
   "execution_count": 9,
   "metadata": {
    "tags": []
   },
   "outputs": [
    {
     "name": "stdout",
     "output_type": "stream",
     "text": [
      "3.141592653589793\n",
      "1.4142135623730951\n",
      "3.141592653589793 1.4142135623730951\n"
     ]
    }
   ],
   "source": [
    "from math import pi, sqrt\n",
    "print(pi)\n",
    "print(sqrt(2))\n",
    "print(pi, sqrt(2))"
   ]
  },
  {
   "cell_type": "code",
   "execution_count": 15,
   "metadata": {
    "tags": []
   },
   "outputs": [
    {
     "name": "stdout",
     "output_type": "stream",
     "text": [
      "[67, 62, 46, 15, 12, 79, 60, 21, 98, 36, 98, 15, 67, 80, 47, 76, 56, 96, 94, 92]\n",
      "Mean: 60.85\n",
      "Standard Desv: 29.29\n"
     ]
    }
   ],
   "source": [
    "# Binding Names for Modules and Module Identifiers\n",
    "import statistics as stats\n",
    "import random\n",
    "\n",
    "grades = [random.randint(1,100) for _ in range(20)]\n",
    "print(grades)\n",
    "print(f'Mean: {stats.mean(grades)}')\n",
    "print(f'Standard Desv: {stats.stdev(grades):.4}')\n"
   ]
  },
  {
   "cell_type": "code",
   "execution_count": 1,
   "metadata": {},
   "outputs": [
    {
     "name": "stdout",
     "output_type": "stream",
     "text": [
      "Passed\n"
     ]
    }
   ],
   "source": [
    "grade = 85\n",
    "\n",
    "if grade >= 60:\n",
    "    print('Passed')"
   ]
  },
  {
   "cell_type": "code",
   "execution_count": 5,
   "metadata": {},
   "outputs": [
    {
     "name": "stdout",
     "output_type": "stream",
     "text": [
      "result: Passed\n"
     ]
    }
   ],
   "source": [
    "grade = 87\n",
    "\n",
    "if grade >= 60:\n",
    "    result = 'Passed'\n",
    "else:\n",
    "    result = 'Failed'\n",
    "    \n",
    "print(f'result: {result}')"
   ]
  },
  {
   "cell_type": "code",
   "execution_count": 6,
   "metadata": {},
   "outputs": [
    {
     "name": "stdout",
     "output_type": "stream",
     "text": [
      "result: Passed\n"
     ]
    }
   ],
   "source": [
    "result = ('Passed' if grade>=60 else 'Failed')\n",
    "print(f'result: {result}')"
   ]
  },
  {
   "cell_type": "code",
   "execution_count": 7,
   "metadata": {},
   "outputs": [
    {
     "name": "stdout",
     "output_type": "stream",
     "text": [
      "C\n"
     ]
    }
   ],
   "source": [
    "grade = 77\n",
    "\n",
    "if grade >= 90:\n",
    "    print('A')\n",
    "elif grade >= 80:\n",
    "    print('B')\n",
    "elif grade >= 70:\n",
    "    print('C')"
   ]
  },
  {
   "cell_type": "code",
   "execution_count": 2,
   "metadata": {},
   "outputs": [
    {
     "data": {
      "text/plain": [
       "int"
      ]
     },
     "execution_count": 2,
     "metadata": {},
     "output_type": "execute_result"
    }
   ],
   "source": [
    "x = 17\n",
    "type(x)"
   ]
  },
  {
   "cell_type": "code",
   "execution_count": 3,
   "metadata": {},
   "outputs": [
    {
     "data": {
      "text/plain": [
       "float"
      ]
     },
     "execution_count": 3,
     "metadata": {},
     "output_type": "execute_result"
    }
   ],
   "source": [
    "x = 4.1\n",
    "type(x)"
   ]
  },
  {
   "cell_type": "code",
   "execution_count": 4,
   "metadata": {},
   "outputs": [
    {
     "data": {
      "text/plain": [
       "str"
      ]
     },
     "execution_count": 4,
     "metadata": {},
     "output_type": "execute_result"
    }
   ],
   "source": [
    "x = 'dog'\n",
    "type(x)"
   ]
  },
  {
   "cell_type": "markdown",
   "metadata": {},
   "source": [
    "# Intro To DataScience: Basic Descriptive Statistics"
   ]
  },
  {
   "cell_type": "code",
   "execution_count": 6,
   "metadata": {},
   "outputs": [
    {
     "name": "stdin",
     "output_type": "stream",
     "text": [
      "Enter first integer:  27\n",
      "Enter second integer:  12\n",
      "Enter third integer:  36\n"
     ]
    },
    {
     "name": "stdout",
     "output_type": "stream",
     "text": [
      "Minimum value is: 12\n"
     ]
    }
   ],
   "source": [
    "\"\"\" Find the minimum of three values \"\"\"\n",
    "number1 = int(input(\"Enter first integer: \"))\n",
    "number2 = int(input(\"Enter second integer: \"))\n",
    "number3 = int(input(\"Enter third integer: \"))\n",
    "\n",
    "minimum = number1\n",
    "\n",
    "if number2 < minimum:\n",
    "    minimum = number2\n",
    "elif number3 < minimum:\n",
    "    minimum = number3\n",
    "    \n",
    "print(f\"Minimum value is: {minimum}\")"
   ]
  },
  {
   "cell_type": "markdown",
   "metadata": {},
   "source": [
    "### Determining the Minimum and Maximum with Built-In Functions min and max"
   ]
  },
  {
   "cell_type": "code",
   "execution_count": 7,
   "metadata": {},
   "outputs": [
    {
     "data": {
      "text/plain": [
       "12"
      ]
     },
     "execution_count": 7,
     "metadata": {},
     "output_type": "execute_result"
    }
   ],
   "source": [
    "min(26,27,12)"
   ]
  },
  {
   "cell_type": "code",
   "execution_count": 8,
   "metadata": {},
   "outputs": [
    {
     "data": {
      "text/plain": [
       "36"
      ]
     },
     "execution_count": 8,
     "metadata": {},
     "output_type": "execute_result"
    }
   ],
   "source": [
    "max(36,27,12)"
   ]
  },
  {
   "cell_type": "markdown",
   "metadata": {},
   "source": [
    "# Built-In Function range: A Deeper Look"
   ]
  },
  {
   "cell_type": "code",
   "execution_count": 13,
   "metadata": {},
   "outputs": [
    {
     "name": "stdout",
     "output_type": "stream",
     "text": [
      "1 2 3 4 5 6 7 8 9 10 "
     ]
    }
   ],
   "source": [
    "for number in range(1,11):\n",
    "    print(number, end=' ')"
   ]
  },
  {
   "cell_type": "markdown",
   "metadata": {},
   "source": [
    "# Using Type Decimal for Monetary Amounts"
   ]
  },
  {
   "cell_type": "code",
   "execution_count": 16,
   "metadata": {},
   "outputs": [
    {
     "name": "stdout",
     "output_type": "stream",
     "text": [
      "amount: 112.31000000000000227374\n"
     ]
    }
   ],
   "source": [
    "amount = 112.31\n",
    "print(f\"amount: {amount:.20f}\")"
   ]
  },
  {
   "cell_type": "code",
   "execution_count": 19,
   "metadata": {},
   "outputs": [
    {
     "name": "stdout",
     "output_type": "stream",
     "text": [
      "1000.00\n",
      "0.05\n"
     ]
    }
   ],
   "source": [
    "from decimal import Decimal\n",
    "\n",
    "principal = Decimal('1000.00')\n",
    "print(principal)\n",
    "rate = Decimal('0.05')\n",
    "print(rate)"
   ]
  },
  {
   "cell_type": "code",
   "execution_count": 20,
   "metadata": {},
   "outputs": [
    {
     "data": {
      "text/plain": [
       "Decimal('12.5')"
      ]
     },
     "execution_count": 20,
     "metadata": {},
     "output_type": "execute_result"
    }
   ],
   "source": [
    "x = Decimal('10.5')\n",
    "y = Decimal('2')\n",
    "x+y"
   ]
  },
  {
   "cell_type": "markdown",
   "metadata": {},
   "source": [
    "# break and continue Statements"
   ]
  },
  {
   "cell_type": "code",
   "execution_count": 21,
   "metadata": {},
   "outputs": [
    {
     "name": "stdout",
     "output_type": "stream",
     "text": [
      "0 1 2 3 4 5 6 7 8 9 "
     ]
    }
   ],
   "source": [
    "for number in range(100):\n",
    "    if number == 10:\n",
    "        break\n",
    "    print(number, end=' ')"
   ]
  },
  {
   "cell_type": "code",
   "execution_count": 22,
   "metadata": {},
   "outputs": [
    {
     "name": "stdout",
     "output_type": "stream",
     "text": [
      "0 1 2 3 4 6 7 8 9 "
     ]
    }
   ],
   "source": [
    "for number in range(10):\n",
    "    if number == 5:\n",
    "        continue\n",
    "    print(number, end=' ')"
   ]
  },
  {
   "cell_type": "markdown",
   "metadata": {},
   "source": [
    "### Page 166 - Turing Test"
   ]
  },
  {
   "cell_type": "code",
   "execution_count": 3,
   "metadata": {},
   "outputs": [
    {
     "name": "stdout",
     "output_type": "stream",
     "text": [
      "number  square  cube\n",
      "     0       0     0\n",
      "     1       1     1\n",
      "     2       4     8\n",
      "     3       9    27\n",
      "     4      16    64\n",
      "     5      25   125\n"
     ]
    }
   ],
   "source": [
    "print(\"number  square  cube\")\n",
    "for value in range(6):\n",
    "    print(f\"{value:>6}  {value*value:>6}  {value*value*value:>4}\")"
   ]
  },
  {
   "cell_type": "code",
   "execution_count": 13,
   "metadata": {},
   "outputs": [
    {
     "name": "stdout",
     "output_type": "stream",
     "text": [
      "5\n",
      "555\n",
      "10000\n"
     ]
    }
   ],
   "source": [
    "print(5555 // 1000)\n",
    "print(5555 % 1000)\n",
    "print(10**(4))"
   ]
  },
  {
   "cell_type": "code",
   "execution_count": null,
   "metadata": {},
   "outputs": [],
   "source": []
  },
  {
   "cell_type": "code",
   "execution_count": 21,
   "metadata": {},
   "outputs": [
    {
     "name": "stdout",
     "output_type": "stream",
     "text": [
      "5 4 3 2 1 "
     ]
    }
   ],
   "source": [
    "numero = 54321\n",
    "exponente = 4  # 5 digitos menos 1\n",
    "divisor = 10**exponente\n",
    "for _ in range(1,6):\n",
    "    cociente = numero // divisor\n",
    "    numero = numero % divisor\n",
    "    print(f\"{cociente} \", end='')\n",
    "    exponente = exponente - 1\n",
    "    divisor = 10**exponente"
   ]
  },
  {
   "cell_type": "markdown",
   "metadata": {},
   "source": [
    "# Functions"
   ]
  },
  {
   "cell_type": "code",
   "execution_count": null,
   "metadata": {},
   "outputs": [],
   "source": [
    "# pag 173"
   ]
  }
 ],
 "metadata": {
  "kernelspec": {
   "display_name": "Python 3",
   "language": "python",
   "name": "python3"
  },
  "language_info": {
   "codemirror_mode": {
    "name": "ipython",
    "version": 3
   },
   "file_extension": ".py",
   "mimetype": "text/x-python",
   "name": "python",
   "nbconvert_exporter": "python",
   "pygments_lexer": "ipython3",
   "version": "3.7.10"
  }
 },
 "nbformat": 4,
 "nbformat_minor": 4
}
