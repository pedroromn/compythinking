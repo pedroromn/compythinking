{
 "cells": [
  {
   "cell_type": "markdown",
   "metadata": {},
   "source": [
    "# Ejemplo de Machine Learning con Python - Preprocesamiento y exploración"
   ]
  },
  {
   "cell_type": "markdown",
   "metadata": {},
   "source": [
    "*Esta notebook fue creada originalmente como un blog post por [Raúl E. López Briega](https://relopezbriega.com.ar/) en [Matemáticas, Analisis de datos y Python](https://relopezbriega.github.io). El contenido esta bajo la licencia BSD.*"
   ]
  },
  {
   "cell_type": "markdown",
   "metadata": {},
   "source": [
    "<img alt=\"Machine Learning\" title=\"Machine Learning\" src=\"https://relopezbriega.github.io/images/machine-learning.jpg\">"
   ]
  },
  {
   "cell_type": "markdown",
   "metadata": {},
   "source": [
    "## Introducción\n",
    "\n",
    "En mi artículo [Machine Learning con Python](https://relopezbriega.github.io/blog/2015/10/10/machine-learning-con-python/), hice una breve introducción a los principales conceptos que debemos conocer de [Machine Learning](https://relopezbriega.github.io/tag/machine-learning.html). En este artículo, la idea es profundizar un poco más en ellos y presentar algunos conceptos nuevos con la ayuda de un ejemplo práctico.\n",
    "\n",
    "### Descripción del ejemplo\n",
    "\n",
    "En el ejemplo que vamos a utilizar, vamos a imaginarnos que una organización sin fines de lucro soporta su\n",
    "operación mediante la organización periódica de una campaña para recaudar fondos por correo. Esta organización ha creado una base de datos con más de 40 mil personas que por lo menos una vez en el pasado ha sido donante.\n",
    "La campaña de recaudación de fondos se realiza mediante el envío a una lista de correo (o un subconjunto de ella) de un regalo simbólico y la solicitud de una donación.\n",
    "Una vez que se planifica la campaña, el costo total de la misma se conoce de forma automática:\n",
    "\n",
    "**[número de potenciales donantes a contactar] x ([costo de regalo] + [costo de correo])**\n",
    "\n",
    "Sin embargo, el resultado de la recaudación de fondos depende tanto del número de donantes que responde a la campaña, como del importe medio de dinero que es donado.\n",
    "\n",
    "La idea es que, utilizando las técnicas de [Machine Learning](https://relopezbriega.github.io/tag/machine-learning.html) sobre la base de datos de esta organización, podamos ayudarla a maximizar los beneficios de la campaña de recaudación, esto es, lograr el máximo importe posible de dinero recaudado, minimizando lo más que se pueda el costo total de la campaña.\n",
    "Debemos tener en cuenta que un miembro de la organización le enviará el correo a un potencial donante, siempre que el rendimiento esperado del pedido excede el costo del correo con la solicitud de donación. Para nuestro ejemplo, el costo por donante de la campaña va a ser igual al **[costo de regalo] + [costo de correo]**, y esto va a ser igual a **\\$ 0.75** por correo enviado. Los ingresos netos de la campaña se calculan como la suma **(importe de donación real - \\$ 0.75)** sobre todos los donantes a los que se ha enviado el correo. Nuestro objetivo es ayudar a esta organización sin fines de lucro a seleccionar de su lista de correo los donantes a los que debe abordar a los efectos de maximizar los beneficios de la campaña de recaudación.\n",
    "\n",
    "### El Dataset\n",
    "\n",
    "El [dataset](https://es.wikipedia.org/wiki/Conjunto_de_datos) que vamos a utilizar, consiste en la base de datos de la organización sin fines de lucro con la lista de correo de los donantes de sus campañas anteriores. El mismo, ya lo hemos dividido en un [dataset](https://es.wikipedia.org/wiki/Conjunto_de_datos) de aprendizaje que se pueden descargar del siguiente [enlace](https://github.com/relopezbriega/relopezbriega.github.io/blob/master/downloads/LEARNING.csv); y un [dataset](https://es.wikipedia.org/wiki/Conjunto_de_datos) que vamos a utilizar para realizar las predicciones, el cual se lo pueden descargar desde este otro [enlace](https://github.com/relopezbriega/relopezbriega.github.io/blob/master/downloads/VALIDATION.csv).\n",
    "Algunos otros datos a tener en cuenta, son los siguientes:\n",
    "\n",
    "1. El [dataset](https://es.wikipedia.org/wiki/Conjunto_de_datos) de aprendizaje contiene 47720 registros y 481 columnas. La primera fila / cabecera del mismo contiene los nombres de cada campo.\n",
    "2. El [dataset](https://es.wikipedia.org/wiki/Conjunto_de_datos) de validación contiene 47692 registros y 479 columnas. Al igual que en el caso anterior, la primera fila contiene los nombres de cada campo.\n",
    "3. Los registros del [dataset](https://es.wikipedia.org/wiki/Conjunto_de_datos) de validación son idénticos a los registros del [dataset](https://es.wikipedia.org/wiki/Conjunto_de_datos) de aprendizaje, excepto que los valores para nuestros campos objetivo que necesitamos para el aprendizaje, no existen(es decir, las columnas DONOR_FLAG y DONOR_AMOUNT no están incluidas en el [dataset](https://es.wikipedia.org/wiki/Conjunto_de_datos) de validación).\n",
    "4. Los espacios en blanco en los campos de tipo texto y los puntos en los campos de tipo numérico corresponden a valores faltantes o perdidos.\n",
    "5. Cada registro tiene un identificador único de registro o índice (campo IDX). Para cada registro, hay dos variables objetivo (campos DONOR_FLAG y DONOR_AMOUNT). DONOR_FLAG es una variable binaria que indica si ese registro fue donante o no; mientras que DONOR_AMOUNT contiene el importe de la donación para los casos que fueron donantes.\n",
    "6. Algunos de los valores en el [dataset](https://es.wikipedia.org/wiki/Conjunto_de_datos) pueden contener errores de formato o de ingreso. Por lo que se deberían corregir o limpiar.\n",
    "7. Una descripción detallada del significado de cada columna del [dataset](https://es.wikipedia.org/wiki/Conjunto_de_datos), la pueden encontrar en el siguiente [enlace](https://github.com/relopezbriega/relopezbriega.github.io/blob/master/downloads/describe_dataset.txt).\n"
   ]
  },
  {
   "cell_type": "markdown",
   "metadata": {
    "collapsed": true
   },
   "source": [
    "## Análisis exploratorio y preprocesamiento\n",
    "\n",
    "El primer paso que deberíamos emprender, es realizar un pequeño [análisis exploratorio](https://es.wikipedia.org/wiki/An%C3%A1lisis_exploratorio_de_datos) de nuestro [dataset](https://es.wikipedia.org/wiki/Conjunto_de_datos); es decir, valernos de algunos herramientas de la [estadística](https://es.wikipedia.org/wiki/Estad%C3%ADstica), junto con algunas visualizaciones para entender un poco más los datos de los que disponemos. Veamos como podemos hacer esto."
   ]
  },
  {
   "cell_type": "code",
   "execution_count": 1,
   "metadata": {
    "collapsed": true
   },
   "outputs": [],
   "source": [
    "# <!-- collapse=True -->\n",
    "# Importando las librerías que vamos a utilizar\n",
    "import pandas as pd\n",
    "import numpy as np \n",
    "import matplotlib.pyplot as plt \n",
    "import seaborn as sns \n",
    "from sklearn.preprocessing import LabelEncoder\n",
    "\n",
    "# graficos incrustados\n",
    "%matplotlib inline\n",
    "\n",
    "# parametros esteticos de seaborn\n",
    "sns.set_palette(\"deep\", desat=.6)\n",
    "sns.set_context(rc={\"figure.figsize\": (8, 4)})"
   ]
  },
  {
   "cell_type": "code",
   "execution_count": 2,
   "metadata": {},
   "outputs": [],
   "source": [
    "# importando el dataset a un Dataframe de Pandas\n",
    "ONG_data = pd.read_csv('LEARNING.csv', header=0)"
   ]
  },
  {
   "cell_type": "code",
   "execution_count": 3,
   "metadata": {},
   "outputs": [
    {
     "data": {
      "text/html": [
       "<div style=\"max-height:1000px;max-width:1500px;overflow:auto;\">\n",
       "<table border=\"1\" class=\"dataframe\">\n",
       "  <thead>\n",
       "    <tr style=\"text-align: right;\">\n",
       "      <th></th>\n",
       "      <th>ODATEDW</th>\n",
       "      <th>OSOURCE</th>\n",
       "      <th>TCODE</th>\n",
       "      <th>STATE</th>\n",
       "      <th>ZIP</th>\n",
       "      <th>MAILCODE</th>\n",
       "      <th>PVASTATE</th>\n",
       "      <th>DOB</th>\n",
       "      <th>NOEXCH</th>\n",
       "      <th>RECINHSE</th>\n",
       "    </tr>\n",
       "  </thead>\n",
       "  <tbody>\n",
       "    <tr>\n",
       "      <th>0</th>\n",
       "      <td>8901</td>\n",
       "      <td>GRI</td>\n",
       "      <td>0</td>\n",
       "      <td>IL</td>\n",
       "      <td>61081</td>\n",
       "      <td></td>\n",
       "      <td></td>\n",
       "      <td>3712</td>\n",
       "      <td>0</td>\n",
       "      <td></td>\n",
       "    </tr>\n",
       "    <tr>\n",
       "      <th>1</th>\n",
       "      <td>9401</td>\n",
       "      <td>NWN</td>\n",
       "      <td>0</td>\n",
       "      <td>LA</td>\n",
       "      <td>70611</td>\n",
       "      <td></td>\n",
       "      <td></td>\n",
       "      <td>0</td>\n",
       "      <td>0</td>\n",
       "      <td></td>\n",
       "    </tr>\n",
       "    <tr>\n",
       "      <th>2</th>\n",
       "      <td>9401</td>\n",
       "      <td>MSD</td>\n",
       "      <td>1</td>\n",
       "      <td>TN</td>\n",
       "      <td>37127-</td>\n",
       "      <td></td>\n",
       "      <td></td>\n",
       "      <td>3211</td>\n",
       "      <td>0</td>\n",
       "      <td></td>\n",
       "    </tr>\n",
       "    <tr>\n",
       "      <th>3</th>\n",
       "      <td>8901</td>\n",
       "      <td>ENQ</td>\n",
       "      <td>0</td>\n",
       "      <td>MN</td>\n",
       "      <td>56475</td>\n",
       "      <td></td>\n",
       "      <td></td>\n",
       "      <td>2603</td>\n",
       "      <td>0</td>\n",
       "      <td></td>\n",
       "    </tr>\n",
       "    <tr>\n",
       "      <th>4</th>\n",
       "      <td>9201</td>\n",
       "      <td>HCC</td>\n",
       "      <td>1</td>\n",
       "      <td>LA</td>\n",
       "      <td>70791</td>\n",
       "      <td></td>\n",
       "      <td></td>\n",
       "      <td>0</td>\n",
       "      <td>0</td>\n",
       "      <td>X</td>\n",
       "    </tr>\n",
       "    <tr>\n",
       "      <th>5</th>\n",
       "      <td>9301</td>\n",
       "      <td>USB</td>\n",
       "      <td>1</td>\n",
       "      <td>UT</td>\n",
       "      <td>84720</td>\n",
       "      <td></td>\n",
       "      <td></td>\n",
       "      <td>2709</td>\n",
       "      <td>0</td>\n",
       "      <td></td>\n",
       "    </tr>\n",
       "    <tr>\n",
       "      <th>6</th>\n",
       "      <td>9401</td>\n",
       "      <td>FRC</td>\n",
       "      <td>1</td>\n",
       "      <td>CA</td>\n",
       "      <td>90056</td>\n",
       "      <td></td>\n",
       "      <td></td>\n",
       "      <td>0</td>\n",
       "      <td>0</td>\n",
       "      <td></td>\n",
       "    </tr>\n",
       "    <tr>\n",
       "      <th>7</th>\n",
       "      <td>8801</td>\n",
       "      <td>PCH</td>\n",
       "      <td>2</td>\n",
       "      <td>IL</td>\n",
       "      <td>62376</td>\n",
       "      <td></td>\n",
       "      <td></td>\n",
       "      <td>5201</td>\n",
       "      <td>0</td>\n",
       "      <td></td>\n",
       "    </tr>\n",
       "    <tr>\n",
       "      <th>8</th>\n",
       "      <td>8601</td>\n",
       "      <td>AMB</td>\n",
       "      <td>28</td>\n",
       "      <td>FL</td>\n",
       "      <td>32810</td>\n",
       "      <td>B</td>\n",
       "      <td></td>\n",
       "      <td>3601</td>\n",
       "      <td>0</td>\n",
       "      <td></td>\n",
       "    </tr>\n",
       "    <tr>\n",
       "      <th>9</th>\n",
       "      <td>9501</td>\n",
       "      <td>L15</td>\n",
       "      <td>1</td>\n",
       "      <td>NC</td>\n",
       "      <td>27850</td>\n",
       "      <td></td>\n",
       "      <td></td>\n",
       "      <td>0</td>\n",
       "      <td>0</td>\n",
       "      <td></td>\n",
       "    </tr>\n",
       "    <tr>\n",
       "      <th>10</th>\n",
       "      <td>8701</td>\n",
       "      <td>BBK</td>\n",
       "      <td>2</td>\n",
       "      <td>MN</td>\n",
       "      <td>55125</td>\n",
       "      <td></td>\n",
       "      <td></td>\n",
       "      <td>3601</td>\n",
       "      <td>0</td>\n",
       "      <td></td>\n",
       "    </tr>\n",
       "  </tbody>\n",
       "</table>\n",
       "</div>"
      ],
      "text/plain": [
       "    ODATEDW OSOURCE  TCODE STATE     ZIP MAILCODE PVASTATE   DOB NOEXCH  \\\n",
       "0      8901     GRI      0    IL   61081                    3712      0   \n",
       "1      9401     NWN      0    LA   70611                       0      0   \n",
       "2      9401     MSD      1    TN  37127-                    3211      0   \n",
       "3      8901     ENQ      0    MN   56475                    2603      0   \n",
       "4      9201     HCC      1    LA   70791                       0      0   \n",
       "5      9301     USB      1    UT   84720                    2709      0   \n",
       "6      9401     FRC      1    CA   90056                       0      0   \n",
       "7      8801     PCH      2    IL   62376                    5201      0   \n",
       "8      8601     AMB     28    FL   32810        B           3601      0   \n",
       "9      9501     L15      1    NC   27850                       0      0   \n",
       "10     8701     BBK      2    MN   55125                    3601      0   \n",
       "\n",
       "   RECINHSE  \n",
       "0            \n",
       "1            \n",
       "2            \n",
       "3            \n",
       "4         X  \n",
       "5            \n",
       "6            \n",
       "7            \n",
       "8            \n",
       "9            \n",
       "10           "
      ]
     },
     "execution_count": 3,
     "metadata": {},
     "output_type": "execute_result"
    }
   ],
   "source": [
    "# Examinando las primeras 10 filas y 10 columnas del dataset\n",
    "ONG_data.ix[:10, :10]"
   ]
  },
  {
   "cell_type": "code",
   "execution_count": 4,
   "metadata": {},
   "outputs": [
    {
     "data": {
      "text/plain": [
       "47720"
      ]
     },
     "execution_count": 4,
     "metadata": {},
     "output_type": "execute_result"
    }
   ],
   "source": [
    "# Controlando la cantidad de registros\n",
    "ONG_data['DONOR_AMOUNT'].count()"
   ]
  },
  {
   "cell_type": "markdown",
   "metadata": {},
   "source": [
    "Como podemos ver, utilizando simples expresiones de [Python](https://python.org/), podemos cargar la base de datos de la ONG en un *[Dataframe](https://pandas.pydata.org/pandas-docs/stable/dsintro.html)* de [Pandas](https://pandas.pydata.org/); lo que nos va a permitir manipular los datos con suma facilidad. Comenzemos a explorar un poco más en detalle este [dataset](https://es.wikipedia.org/wiki/Conjunto_de_datos)!\n",
    "\n",
    "En primer lugar, lo que deberíamos hacer es controlar si existen valores faltantes o nulos; esto lo podemos realizar utilizando el método `isnull()` del siguiente modo:"
   ]
  },
  {
   "cell_type": "code",
   "execution_count": 5,
   "metadata": {},
   "outputs": [
    {
     "data": {
      "text/plain": [
       "True"
      ]
     },
     "execution_count": 5,
     "metadata": {},
     "output_type": "execute_result"
    }
   ],
   "source": [
    "# Controlando valores nulos\n",
    "ONG_data.isnull().any().any()"
   ]
  },
  {
   "cell_type": "markdown",
   "metadata": {},
   "source": [
    "Como podemos ver, el método nos devuelve el valor \"True\", lo que indica que existen valores nulos en nuestro [dataset](https://es.wikipedia.org/wiki/Conjunto_de_datos). Estos valores pueden tener una influencia significativa en nuestro modelo predictivo, por lo que siempre es una decisión importante determinar la forma en que los vamos a manejar. Las alternativas que tenemos son:\n",
    "\n",
    "1. Dejarlos como están, lo que a la larga nos va a traer bastantes dolores de cabeza ya que en general los algoritmos no los suelen procesar correctamente y provocan errores.\n",
    "2. Eliminarlos, lo que es una alternativa viable aunque, dependiendo la cantidad de valores nulos, puede afectar significativamente el resultado final de nuestro modelo predictivo.\n",
    "3. Inferir su valor. En este caso, lo que podemos hacer es tratar de inferir el valor faltante y reemplazarlo por el valor inferido. Esta suele ser generalmente la mejor alternativa a seguir.\n",
    "\n",
    "En este ejemplo, yo voy a utilizar la última alternativa. Vamos a inferir los valores faltantes utilizando la [media aritmética](https://es.wikipedia.org/wiki/Media_aritm%C3%A9tica) para los [datos cuantitativos](https://relopezbriega.github.io/blog/2016/03/13/analisis-de-datos-cuantitativos-con-python/) y la <a href=\"https://es.wikipedia.org/wiki/Moda_(estad%C3%ADstica)\">moda</a> para los [datos categóricos](https://relopezbriega.github.io/blog/2016/02/29/analisis-de-datos-categoricos-con-python/).\n",
    "\n",
    "Como vamos a utilizar dos métodos distintos para reemplazar a los valores faltantes, dependiendo de si son [numéricos](https://relopezbriega.github.io/blog/2016/03/13/analisis-de-datos-cuantitativos-con-python/) o [categóricos](https://relopezbriega.github.io/blog/2016/02/29/analisis-de-datos-categoricos-con-python/), el primer paso que debemos realizar es tratar de identificar que columnas de nuestro [dataset](https://es.wikipedia.org/wiki/Conjunto_de_datos) corresponde a cada tipo de datos; para realizar esto vamos a utilizar el atributo `dtypes` del *[Dataframe](https://pandas.pydata.org/pandas-docs/stable/dsintro.html)* de [Pandas](https://pandas.pydata.org/). "
   ]
  },
  {
   "cell_type": "code",
   "execution_count": 6,
   "metadata": {},
   "outputs": [
    {
     "data": {
      "text/plain": [
       "68"
      ]
     },
     "execution_count": 6,
     "metadata": {},
     "output_type": "execute_result"
    }
   ],
   "source": [
    "# Agrupando columnas por tipo de datos\n",
    "tipos = ONG_data.columns.to_series().groupby(ONG_data.dtypes).groups\n",
    "\n",
    "# Armando lista de columnas categóricas\n",
    "ctext = tipos[np.dtype('object')]\n",
    "len(ctext)  # cantidad de columnas con datos categóricos. "
   ]
  },
  {
   "cell_type": "code",
   "execution_count": 7,
   "metadata": {},
   "outputs": [
    {
     "data": {
      "text/plain": [
       "413"
      ]
     },
     "execution_count": 7,
     "metadata": {},
     "output_type": "execute_result"
    }
   ],
   "source": [
    "# Armando lista de columnas numéricas\n",
    "columnas = ONG_data.columns  # lista de todas las columnas\n",
    "cnum = list(set(columnas) - set(ctext))\n",
    "len(cnum)"
   ]
  },
  {
   "cell_type": "markdown",
   "metadata": {},
   "source": [
    "Ahora ya logramos separar a las 481 columnas que tiene nuestro [dataset](https://es.wikipedia.org/wiki/Conjunto_de_datos). 68 columnas contienen [datos categóricos](https://relopezbriega.github.io/blog/2016/02/29/analisis-de-datos-categoricos-con-python/) y 413 contienen [datos cuantitativos](https://relopezbriega.github.io/blog/2016/03/13/analisis-de-datos-cuantitativos-con-python/). Procedamos a inferir los valores faltantes."
   ]
  },
  {
   "cell_type": "code",
   "execution_count": 8,
   "metadata": {
    "collapsed": true
   },
   "outputs": [],
   "source": [
    "# Completando valores faltantas datos cuantititavos\n",
    "for c in cnum:\n",
    "    mean = ONG_data[c].mean()\n",
    "    ONG_data[c] = ONG_data[c].fillna(mean)"
   ]
  },
  {
   "cell_type": "code",
   "execution_count": 9,
   "metadata": {
    "collapsed": true
   },
   "outputs": [],
   "source": [
    "# Completando valores faltantas datos categóricos\n",
    "for c in ctext:\n",
    "    mode = ONG_data[c].mode()[0]\n",
    "    ONG_data[c] = ONG_data[c].fillna(mode)"
   ]
  },
  {
   "cell_type": "code",
   "execution_count": 10,
   "metadata": {},
   "outputs": [
    {
     "data": {
      "text/plain": [
       "False"
      ]
     },
     "execution_count": 10,
     "metadata": {},
     "output_type": "execute_result"
    }
   ],
   "source": [
    "# Controlando que no hayan valores faltantes\n",
    "ONG_data.isnull().any().any()"
   ]
  },
  {
   "cell_type": "code",
   "execution_count": 11,
   "metadata": {
    "collapsed": true
   },
   "outputs": [],
   "source": [
    "# Guardando el dataset preprocesado\n",
    "# Save transform datasets\n",
    "ONG_data.to_csv(\"LEARNING_procesado.csv\", index=False)"
   ]
  },
  {
   "cell_type": "markdown",
   "metadata": {},
   "source": [
    "Perfecto! Ahora tenemos un [dataset](https://es.wikipedia.org/wiki/Conjunto_de_datos) limpio de valores faltantes. Ya estamos listos para comenzar a explorar los datos, comencemos por determinar el porcentaje de personas que alguna vez fue donante de la ONG y están incluidos en la base de datos con la que estamos trabajando."
   ]
  },
  {
   "cell_type": "code",
   "execution_count": 12,
   "metadata": {},
   "outputs": [
    {
     "name": "stdout",
     "output_type": "stream",
     "text": [
      "El procentaje de donantes de la base de datos es 5.08%\n"
     ]
    }
   ],
   "source": [
    "# Calculando el porcentaje de donantes sobre toda la base de datos\n",
    "porcent_donantes = (ONG_data[ONG_data.DONOR_AMOUNT \n",
    "                             > 0]['DONOR_AMOUNT'].count() * 1.0\n",
    "       / ONG_data['DONOR_AMOUNT'].count()) * 100.0\n",
    "print(\"El procentaje de donantes de la base de datos es {0:.2f}%\"\n",
    "      .format(porcent_donantes))"
   ]
  },
  {
   "cell_type": "code",
   "execution_count": 13,
   "metadata": {},
   "outputs": [
    {
     "data": {
      "image/png": "[encoded data removed]",
      "text/plain": [
       "<matplotlib.figure.Figure at 0x7fdef1339438>"
      ]
     },
     "metadata": {},
     "output_type": "display_data"
    }
   ],
   "source": [
    "# Grafico de totas del porcentaje de donantes\n",
    "# Agrupando por DONOR_FLAG\n",
    "donantes = ONG_data.groupby('DONOR_FLAG').IDX.count() \n",
    "# Creando las leyendas del grafico.\n",
    "labels = [ 'Donante\\n' + str(round(x * 1.0 / donantes.sum() * \n",
    "                            100.0, 2)) + '%'  for x in donantes ]\n",
    "labels[0] = 'No ' + labels[0]\n",
    "\n",
    "plt.pie(donantes, labels=labels)\n",
    "plt.title('Porcion de donantes')\n",
    "plt.show()"
   ]
  },
  {
   "cell_type": "code",
   "execution_count": 14,
   "metadata": {},
   "outputs": [
    {
     "data": {
      "text/plain": [
       "2423"
      ]
     },
     "execution_count": 14,
     "metadata": {},
     "output_type": "execute_result"
    }
   ],
   "source": [
    "# Creando subset con solo los donates\n",
    "ONG_donantes = ONG_data[ONG_data.DONOR_AMOUNT > 0]\n",
    "\n",
    "# cantidad de donantes\n",
    "len(ONG_donantes)"
   ]
  },
  {
   "cell_type": "markdown",
   "metadata": {},
   "source": [
    "Aquí podemos ver que el porcentaje de personas que fueron donantes en el pasado es realmente muy bajo, solo un 5 % del total de la base de datos (2423 personas). Este es un dato importante a tener en cuenta ya que al existir tanta diferencia entre las *clases* a clasificar, esto puede afectar considerablemente a nuestro [algoritmo](https://es.wikipedia.org/wiki/Algoritmo) de aprendizaje.\n",
    "Exploremos también un poco más en detalle a este grupo pequeño de personas que fueron donantes; veamos por ejemplo como se dividen de acuerdo a la cantidad de dinero donado."
   ]
  },
  {
   "cell_type": "code",
   "execution_count": 15,
   "metadata": {},
   "outputs": [
    {
     "data": {
      "image/png": "[encoded data removed]",
      "text/plain": [
       "<matplotlib.figure.Figure at 0x7fdef2e07be0>"
      ]
     },
     "metadata": {},
     "output_type": "display_data"
    }
   ],
   "source": [
    "# Analizando el importe de donanciones\n",
    "# Creando un segmentos de importes\n",
    "imp_segm = pd.cut(ONG_donantes['DONOR_AMOUNT'], \n",
    "                  [0, 10,  20, 30, 40, 50, 60, 100, 200])\n",
    "# Creando el grafico de barras desde pandas\n",
    "plot = pd.value_counts(imp_segm).plot(kind='bar',\n",
    "                                      title='Importes de donacion')\n",
    "plot.set_ylabel('Cant de donantes')\n",
    "plot.set_xlabel('Rango de importes')\n",
    "plt.show()"
   ]
  },
  {
   "cell_type": "code",
   "execution_count": 16,
   "metadata": {},
   "outputs": [
    {
     "data": {
      "text/plain": [
       "(0, 10]       1026\n",
       "(10, 20]       921\n",
       "(20, 30]       358\n",
       "(30, 40]        53\n",
       "(40, 50]        43\n",
       "(60, 100]       15\n",
       "(50, 60]         4\n",
       "(100, 200]       3\n",
       "dtype: int64"
      ]
     },
     "execution_count": 16,
     "metadata": {},
     "output_type": "execute_result"
    }
   ],
   "source": [
    "# Agrupación por segmento segun importe donado.\n",
    "pd.value_counts(imp_segm)"
   ]
  },
  {
   "cell_type": "code",
   "execution_count": 17,
   "metadata": {},
   "outputs": [
    {
     "data": {
      "text/plain": [
       "15.598237721832438"
      ]
     },
     "execution_count": 17,
     "metadata": {},
     "output_type": "execute_result"
    }
   ],
   "source": [
    "# importe de donación promedio\n",
    "ONG_donantes['DONOR_AMOUNT'].mean()"
   ]
  },
  {
   "cell_type": "code",
   "execution_count": 18,
   "metadata": {},
   "outputs": [
    {
     "data": {
      "image/png": "[encoded data removed]",
      "text/plain": [
       "<matplotlib.figure.Figure at 0x7fdef2b228d0>"
      ]
     },
     "metadata": {},
     "output_type": "display_data"
    }
   ],
   "source": [
    "# Gráfico de cajas del importe de donación\n",
    "sns.boxplot(list(ONG_donantes['DONOR_AMOUNT']))\n",
    "plt.title('importe de donación')\n",
    "plt.show()"
   ]
  },
  {
   "cell_type": "markdown",
   "metadata": {
    "collapsed": true
   },
   "source": [
    "Este análisis nos muestra que la mayor cantidad de donaciones caen en un rango de importes entre 0 y 30, siendo la donación promedio 15.60. También podemos ver que donaciones que superen un importe de 50 son casos realmente poco frecuentes, por lo que constituyen [valores atípicos](https://es.wikipedia.org/wiki/Valor_at%C3%ADpico) y sería prudente eliminar estos casos al entrenar nuestro modelo para que no distorsionen los resultados.\n",
    "\n",
    "Otra exploración interesante que podríamos realizar sobre nuestro [dataset](https://es.wikipedia.org/wiki/Conjunto_de_datos) relacionado con los donantes, es ver como se divide este grupo en términos de género y edad. Comencemos con el género!"
   ]
  },
  {
   "cell_type": "code",
   "execution_count": 19,
   "metadata": {},
   "outputs": [
    {
     "data": {
      "image/png": "[encoded data removed]",
      "text/plain": [
       "<matplotlib.figure.Figure at 0x7fdef2854048>"
      ]
     },
     "metadata": {},
     "output_type": "display_data"
    }
   ],
   "source": [
    "# Grafico del género de los donantes\n",
    "ONG_donantes.groupby('GENDER').size().plot(kind='bar')\n",
    "plt.title('Distribución por género')\n",
    "plt.show()"
   ]
  },
  {
   "cell_type": "code",
   "execution_count": 20,
   "metadata": {},
   "outputs": [
    {
     "data": {
      "image/png": "[encoded data removed]",
      "text/plain": [
       "<matplotlib.figure.Figure at 0x7fdef2a75128>"
      ]
     },
     "metadata": {},
     "output_type": "display_data"
    }
   ],
   "source": [
    "# Donaciones segun el género\n",
    "ONG_donantes[(ONG_donantes.DONOR_AMOUNT <= 50)\n",
    "             & (ONG_donantes.GENDER.isin(['F', 'M'])\n",
    "               )][['DONOR_AMOUNT', 'GENDER']].boxplot(by='GENDER')\n",
    "plt.title('Donantes segun sexo')\n",
    "plt.show()"
   ]
  },
  {
   "cell_type": "code",
   "execution_count": 21,
   "metadata": {},
   "outputs": [
    {
     "data": {
      "text/plain": [
       "DONOR_AMOUNT    14.610311\n",
       "dtype: float64"
      ]
     },
     "execution_count": 21,
     "metadata": {},
     "output_type": "execute_result"
    }
   ],
   "source": [
    "# Media de impote donado por mujeres\n",
    "ONG_donantes[ONG_donantes.GENDER == 'F'][['DONOR_AMOUNT']].mean()"
   ]
  },
  {
   "cell_type": "code",
   "execution_count": 22,
   "metadata": {},
   "outputs": [
    {
     "data": {
      "text/plain": [
       "DONOR_AMOUNT    16.81989\n",
       "dtype: float64"
      ]
     },
     "execution_count": 22,
     "metadata": {},
     "output_type": "execute_result"
    }
   ],
   "source": [
    "# Media de impote donado por hombres\n",
    "ONG_donantes[ONG_donantes.GENDER == 'M'][['DONOR_AMOUNT']].mean()"
   ]
  },
  {
   "cell_type": "markdown",
   "metadata": {},
   "source": [
    "Aquí vemos que las mujeres suelen estar más propensas a donar, aunque donan un importe promedio menor (14.61) al que donan los hombres (16.82). Veamos ahora como se comportan las donaciones respecto a la edad."
   ]
  },
  {
   "cell_type": "code",
   "execution_count": 23,
   "metadata": {},
   "outputs": [
    {
     "data": {
      "image/png": "[encoded data removed]",
      "text/plain": [
       "<matplotlib.figure.Figure at 0x7fdef29cfeb8>"
      ]
     },
     "metadata": {},
     "output_type": "display_data"
    }
   ],
   "source": [
    "# Distribución de la edad de los donantes\n",
    "ONG_donantes['AGE'].hist().set_title('Distribución de donantes segun edad')\n",
    "plt.show()"
   ]
  },
  {
   "cell_type": "code",
   "execution_count": 24,
   "metadata": {},
   "outputs": [
    {
     "data": {
      "image/png": "[encoded data removed]",
      "text/plain": [
       "<matplotlib.figure.Figure at 0x7fdef1202898>"
      ]
     },
     "metadata": {},
     "output_type": "display_data"
    }
   ],
   "source": [
    "# Agrupando la edad por rango de a 10\n",
    "AGE2 = pd.cut(ONG_donantes['AGE'], range(0, 100, 10))\n",
    "ONG_donantes['AGE2'] = AGE2\n",
    "\n",
    "# Gráfico de barras de donaciones por edad\n",
    "pd.value_counts(AGE2).plot(kind='bar', title='Donaciones por edad')\n",
    "plt.show()"
   ]
  },
  {
   "cell_type": "code",
   "execution_count": 25,
   "metadata": {},
   "outputs": [
    {
     "data": {
      "image/png": "[encoded data removed]",
      "text/plain": [
       "<matplotlib.figure.Figure at 0x7fdef29d2f28>"
      ]
     },
     "metadata": {},
     "output_type": "display_data"
    }
   ],
   "source": [
    "# Importes de donación por grango de edad\n",
    "ONG_donantes[ONG_donantes.DONOR_AMOUNT <= 50][['DONOR_AMOUNT', \n",
    "                                               'AGE2']].boxplot(by='AGE2')\n",
    "plt.title('Importe de donación por edad')\n",
    "plt.show()"
   ]
  },
  {
   "cell_type": "markdown",
   "metadata": {},
   "source": [
    "En este último análisis podemos ver que la mayor cantidad de los donantes son personas de entre 60 y 70 años, aunque la media de importe donado más alta la tienen las personas que van desde los 30 a los 60 años. "
   ]
  },
  {
   "cell_type": "markdown",
   "metadata": {},
   "source": [
    "Con esto concluyo este análisis; en próximos artículos voy a continuar con el ejemplo completando los restantes pasos que incluye un proyecto de [Machine Learning](https://relopezbriega.github.io/tag/machine-leraning.html) hasta concluir el modelo y poder utilizarlo para realizar predicciones (selección de atributos - armado de modelo - entrenamiento - evaluación - métricas - predicción). Espero lo hayan disfrutado tanto como yo disfrute al escribirlo!\n",
    "\n",
    "Saludos!\n",
    "\n",
    "*Este post fue escrito utilizando IPython notebook. Pueden descargar este [notebook](https://github.com/relopezbriega/relopezbriega.github.io/blob/master/downloads/MachineLearningPractica.ipynb) o ver su version estática en [nbviewer](https://nbviewer.ipython.org/github/relopezbriega/relopezbriega.github.io/blob/master/downloads/MachineLearningPractica.ipynb).*"
   ]
  }
 ],
 "metadata": {
  "kernelspec": {
   "display_name": "Python 3",
   "language": "python",
   "name": "python3"
  },
  "language_info": {
   "codemirror_mode": {
    "name": "ipython",
    "version": 3
   },
   "file_extension": ".py",
   "mimetype": "text/x-python",
   "name": "python",
   "nbconvert_exporter": "python",
   "pygments_lexer": "ipython3",
   "version": "3.7.8"
  }
 },
 "nbformat": 4,
 "nbformat_minor": 1
}
